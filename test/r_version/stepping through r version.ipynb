{
 "cells": [
  {
   "cell_type": "code",
   "execution_count": 1,
   "metadata": {},
   "outputs": [
    {
     "name": "stderr",
     "output_type": "stream",
     "text": [
      "Warning message:\n",
      "\"package 'data.table' was built under R version 4.1.2\"\n"
     ]
    }
   ],
   "source": [
    "library(\"data.table\")"
   ]
  },
  {
   "cell_type": "code",
   "execution_count": 2,
   "metadata": {},
   "outputs": [
    {
     "data": {
      "text/html": [
       "<table class=\"dataframe\">\n",
       "<caption>A data.table: 18 × 5</caption>\n",
       "<thead>\n",
       "\t<tr><th scope=col>var_a</th><th scope=col>var_b</th><th scope=col>slk_from</th><th scope=col>slk_to</th><th scope=col>length</th></tr>\n",
       "\t<tr><th scope=col>&lt;dbl&gt;</th><th scope=col>&lt;dbl&gt;</th><th scope=col>&lt;dbl&gt;</th><th scope=col>&lt;dbl&gt;</th><th scope=col>&lt;dbl&gt;</th></tr>\n",
       "</thead>\n",
       "<tbody>\n",
       "\t<tr><td>1</td><td>3</td><td>0.00</td><td>0.01</td><td>0.01</td></tr>\n",
       "\t<tr><td>2</td><td>2</td><td>0.01</td><td>0.02</td><td>0.01</td></tr>\n",
       "\t<tr><td>3</td><td>1</td><td>0.02</td><td>0.03</td><td>0.01</td></tr>\n",
       "\t<tr><td>4</td><td>3</td><td>0.03</td><td>0.04</td><td>0.01</td></tr>\n",
       "\t<tr><td>2</td><td>5</td><td>0.04</td><td>0.05</td><td>0.01</td></tr>\n",
       "\t<tr><td>3</td><td>6</td><td>0.05</td><td>0.06</td><td>0.01</td></tr>\n",
       "\t<tr><td>1</td><td>5</td><td>0.06</td><td>0.07</td><td>0.01</td></tr>\n",
       "\t<tr><td>5</td><td>6</td><td>0.07</td><td>0.08</td><td>0.01</td></tr>\n",
       "\t<tr><td>3</td><td>4</td><td>0.08</td><td>0.09</td><td>0.01</td></tr>\n",
       "\t<tr><td>4</td><td>7</td><td>0.09</td><td>0.10</td><td>0.01</td></tr>\n",
       "\t<tr><td>6</td><td>9</td><td>0.10</td><td>0.11</td><td>0.01</td></tr>\n",
       "\t<tr><td>4</td><td>4</td><td>0.11</td><td>0.12</td><td>0.01</td></tr>\n",
       "\t<tr><td>3</td><td>3</td><td>0.12</td><td>0.13</td><td>0.01</td></tr>\n",
       "\t<tr><td>7</td><td>2</td><td>0.13</td><td>0.14</td><td>0.01</td></tr>\n",
       "\t<tr><td>5</td><td>3</td><td>0.14</td><td>0.15</td><td>0.01</td></tr>\n",
       "\t<tr><td>6</td><td>1</td><td>0.15</td><td>0.16</td><td>0.01</td></tr>\n",
       "\t<tr><td>4</td><td>3</td><td>0.16</td><td>0.17</td><td>0.01</td></tr>\n",
       "\t<tr><td>5</td><td>2</td><td>0.17</td><td>0.18</td><td>0.01</td></tr>\n",
       "</tbody>\n",
       "</table>\n"
      ],
      "text/latex": [
       "A data.table: 18 × 5\n",
       "\\begin{tabular}{lllll}\n",
       " var\\_a & var\\_b & slk\\_from & slk\\_to & length\\\\\n",
       " <dbl> & <dbl> & <dbl> & <dbl> & <dbl>\\\\\n",
       "\\hline\n",
       "\t 1 & 3 & 0.00 & 0.01 & 0.01\\\\\n",
       "\t 2 & 2 & 0.01 & 0.02 & 0.01\\\\\n",
       "\t 3 & 1 & 0.02 & 0.03 & 0.01\\\\\n",
       "\t 4 & 3 & 0.03 & 0.04 & 0.01\\\\\n",
       "\t 2 & 5 & 0.04 & 0.05 & 0.01\\\\\n",
       "\t 3 & 6 & 0.05 & 0.06 & 0.01\\\\\n",
       "\t 1 & 5 & 0.06 & 0.07 & 0.01\\\\\n",
       "\t 5 & 6 & 0.07 & 0.08 & 0.01\\\\\n",
       "\t 3 & 4 & 0.08 & 0.09 & 0.01\\\\\n",
       "\t 4 & 7 & 0.09 & 0.10 & 0.01\\\\\n",
       "\t 6 & 9 & 0.10 & 0.11 & 0.01\\\\\n",
       "\t 4 & 4 & 0.11 & 0.12 & 0.01\\\\\n",
       "\t 3 & 3 & 0.12 & 0.13 & 0.01\\\\\n",
       "\t 7 & 2 & 0.13 & 0.14 & 0.01\\\\\n",
       "\t 5 & 3 & 0.14 & 0.15 & 0.01\\\\\n",
       "\t 6 & 1 & 0.15 & 0.16 & 0.01\\\\\n",
       "\t 4 & 3 & 0.16 & 0.17 & 0.01\\\\\n",
       "\t 5 & 2 & 0.17 & 0.18 & 0.01\\\\\n",
       "\\end{tabular}\n"
      ],
      "text/markdown": [
       "\n",
       "A data.table: 18 × 5\n",
       "\n",
       "| var_a &lt;dbl&gt; | var_b &lt;dbl&gt; | slk_from &lt;dbl&gt; | slk_to &lt;dbl&gt; | length &lt;dbl&gt; |\n",
       "|---|---|---|---|---|\n",
       "| 1 | 3 | 0.00 | 0.01 | 0.01 |\n",
       "| 2 | 2 | 0.01 | 0.02 | 0.01 |\n",
       "| 3 | 1 | 0.02 | 0.03 | 0.01 |\n",
       "| 4 | 3 | 0.03 | 0.04 | 0.01 |\n",
       "| 2 | 5 | 0.04 | 0.05 | 0.01 |\n",
       "| 3 | 6 | 0.05 | 0.06 | 0.01 |\n",
       "| 1 | 5 | 0.06 | 0.07 | 0.01 |\n",
       "| 5 | 6 | 0.07 | 0.08 | 0.01 |\n",
       "| 3 | 4 | 0.08 | 0.09 | 0.01 |\n",
       "| 4 | 7 | 0.09 | 0.10 | 0.01 |\n",
       "| 6 | 9 | 0.10 | 0.11 | 0.01 |\n",
       "| 4 | 4 | 0.11 | 0.12 | 0.01 |\n",
       "| 3 | 3 | 0.12 | 0.13 | 0.01 |\n",
       "| 7 | 2 | 0.13 | 0.14 | 0.01 |\n",
       "| 5 | 3 | 0.14 | 0.15 | 0.01 |\n",
       "| 6 | 1 | 0.15 | 0.16 | 0.01 |\n",
       "| 4 | 3 | 0.16 | 0.17 | 0.01 |\n",
       "| 5 | 2 | 0.17 | 0.18 | 0.01 |\n",
       "\n"
      ],
      "text/plain": [
       "   var_a var_b slk_from slk_to length\n",
       "1  1     3     0.00     0.01   0.01  \n",
       "2  2     2     0.01     0.02   0.01  \n",
       "3  3     1     0.02     0.03   0.01  \n",
       "4  4     3     0.03     0.04   0.01  \n",
       "5  2     5     0.04     0.05   0.01  \n",
       "6  3     6     0.05     0.06   0.01  \n",
       "7  1     5     0.06     0.07   0.01  \n",
       "8  5     6     0.07     0.08   0.01  \n",
       "9  3     4     0.08     0.09   0.01  \n",
       "10 4     7     0.09     0.10   0.01  \n",
       "11 6     9     0.10     0.11   0.01  \n",
       "12 4     4     0.11     0.12   0.01  \n",
       "13 3     3     0.12     0.13   0.01  \n",
       "14 7     2     0.13     0.14   0.01  \n",
       "15 5     3     0.14     0.15   0.01  \n",
       "16 6     1     0.15     0.16   0.01  \n",
       "17 4     3     0.16     0.17   0.01  \n",
       "18 5     2     0.17     0.18   0.01  "
      ]
     },
     "metadata": {},
     "output_type": "display_data"
    }
   ],
   "source": [
    "# prepare dummy input\n",
    "\n",
    "var_a <- c(\n",
    "\t1,\n",
    "\t2,\n",
    "\t3,\n",
    "\t4,\n",
    "\t2,\n",
    "\t3,\n",
    "\t1,\n",
    "\t5,\n",
    "\t3,\n",
    "\t4,\n",
    "\t6,\n",
    "\t4,\n",
    "\t3,\n",
    "\t7,\n",
    "\t5,\n",
    "\t6,\n",
    "\t4,\n",
    "\t5\n",
    ")\n",
    "\n",
    "var_b <- c(\n",
    "\t3,\n",
    "\t2,\n",
    "\t1,\n",
    "\t3,\n",
    "\t5,\n",
    "\t6,\n",
    "\t5,\n",
    "\t6,\n",
    "\t4,\n",
    "\t7,\n",
    "\t9,\n",
    "\t4,\n",
    "\t3,\n",
    "\t2,\n",
    "\t3,\n",
    "\t1,\n",
    "\t3,\n",
    "\t2\n",
    ")\n",
    "\n",
    "slk_from <- c(\n",
    "\t0.000,\n",
    "\t0.010,\n",
    "\t0.020,\n",
    "\t0.030,\n",
    "\t0.040,\n",
    "\t0.050,\n",
    "\t0.060,\n",
    "\t0.070,\n",
    "\t0.080,\n",
    "\t0.090,\n",
    "\t0.100,\n",
    "\t0.110,\n",
    "\t0.120,\n",
    "\t0.130,\n",
    "\t0.140,\n",
    "\t0.150,\n",
    "\t0.160,\n",
    "\t0.170\n",
    ")\n",
    "\n",
    "slk_to <- c(\n",
    "\t0.010,\n",
    "\t0.020,\n",
    "\t0.030,\n",
    "\t0.040,\n",
    "\t0.050,\n",
    "\t0.060,\n",
    "\t0.070,\n",
    "\t0.080,\n",
    "\t0.090,\n",
    "\t0.100,\n",
    "\t0.110,\n",
    "\t0.120,\n",
    "\t0.130,\n",
    "\t0.140,\n",
    "\t0.150,\n",
    "\t0.160,\n",
    "\t0.170,\n",
    "\t0.180\n",
    ")\n",
    "\n",
    "length <- c(\n",
    "\t0.010,\n",
    "\t0.010,\n",
    "\t0.010,\n",
    "\t0.010,\n",
    "\t0.010,\n",
    "\t0.010,\n",
    "\t0.010,\n",
    "\t0.010,\n",
    "\t0.010,\n",
    "\t0.010,\n",
    "\t0.010,\n",
    "\t0.010,\n",
    "\t0.010,\n",
    "\t0.010,\n",
    "\t0.010,\n",
    "\t0.010,\n",
    "\t0.010,\n",
    "\t0.010\n",
    ")\n",
    "\n",
    "data <- as.data.table(data.frame(var_a, var_b, slk_from, slk_to, length))\n",
    "#data = data.frame(var_a,var_b,slk_from,slk_to,length)\n",
    "data"
   ]
  },
  {
   "cell_type": "code",
   "execution_count": 3,
   "metadata": {},
   "outputs": [],
   "source": [
    "var <- c(\"var_a\", \"var_b\")\n",
    "data_var <- data[, ..var]"
   ]
  },
  {
   "cell_type": "code",
   "execution_count": 7,
   "metadata": {},
   "outputs": [],
   "source": [
    "min.length <- 0.020 # min(length)\n",
    "max.length <- 0.100 # sum(length)"
   ]
  },
  {
   "cell_type": "code",
   "execution_count": 12,
   "metadata": {},
   "outputs": [
    {
     "data": {
      "text/html": [
       "<style>\n",
       ".list-inline {list-style: none; margin:0; padding: 0}\n",
       ".list-inline>li {display: inline-block}\n",
       ".list-inline>li:not(:last-child)::after {content: \"\\00b7\"; padding: 0 .5ex}\n",
       "</style>\n",
       "<ol class=list-inline><li>0.01</li><li>0.02</li><li>0.03</li><li>0.04</li><li>0.05</li><li>0.06</li><li>0.07</li><li>0.08</li><li>0.09</li><li>0.1</li><li>0.11</li><li>0.12</li><li>0.13</li><li>0.14</li><li>0.15</li><li>0.16</li><li>0.17</li><li>0.18</li></ol>\n"
      ],
      "text/latex": [
       "\\begin{enumerate*}\n",
       "\\item 0.01\n",
       "\\item 0.02\n",
       "\\item 0.03\n",
       "\\item 0.04\n",
       "\\item 0.05\n",
       "\\item 0.06\n",
       "\\item 0.07\n",
       "\\item 0.08\n",
       "\\item 0.09\n",
       "\\item 0.1\n",
       "\\item 0.11\n",
       "\\item 0.12\n",
       "\\item 0.13\n",
       "\\item 0.14\n",
       "\\item 0.15\n",
       "\\item 0.16\n",
       "\\item 0.17\n",
       "\\item 0.18\n",
       "\\end{enumerate*}\n"
      ],
      "text/markdown": [
       "1. 0.01\n",
       "2. 0.02\n",
       "3. 0.03\n",
       "4. 0.04\n",
       "5. 0.05\n",
       "6. 0.06\n",
       "7. 0.07\n",
       "8. 0.08\n",
       "9. 0.09\n",
       "10. 0.1\n",
       "11. 0.11\n",
       "12. 0.12\n",
       "13. 0.13\n",
       "14. 0.14\n",
       "15. 0.15\n",
       "16. 0.16\n",
       "17. 0.17\n",
       "18. 0.18\n",
       "\n",
       "\n"
      ],
      "text/plain": [
       " [1] 0.01 0.02 0.03 0.04 0.05 0.06 0.07 0.08 0.09 0.10 0.11 0.12 0.13 0.14 0.15\n",
       "[16] 0.16 0.17 0.18"
      ]
     },
     "metadata": {},
     "output_type": "display_data"
    },
    {
     "data": {
      "text/html": [
       "<style>\n",
       ".list-inline {list-style: none; margin:0; padding: 0}\n",
       ".list-inline>li {display: inline-block}\n",
       ".list-inline>li:not(:last-child)::after {content: \"\\00b7\"; padding: 0 .5ex}\n",
       "</style>\n",
       "<ol class=list-inline><li>0.01</li><li>0.02</li><li>0.03</li><li>0.04</li><li>0.05</li><li>0.06</li><li>0.07</li><li>0.08</li><li>0.09</li><li>0.1</li><li>0.11</li><li>0.12</li><li>0.13</li><li>0.14</li><li>0.15</li><li>0.16</li><li>0.17</li><li>0.18</li></ol>\n"
      ],
      "text/latex": [
       "\\begin{enumerate*}\n",
       "\\item 0.01\n",
       "\\item 0.02\n",
       "\\item 0.03\n",
       "\\item 0.04\n",
       "\\item 0.05\n",
       "\\item 0.06\n",
       "\\item 0.07\n",
       "\\item 0.08\n",
       "\\item 0.09\n",
       "\\item 0.1\n",
       "\\item 0.11\n",
       "\\item 0.12\n",
       "\\item 0.13\n",
       "\\item 0.14\n",
       "\\item 0.15\n",
       "\\item 0.16\n",
       "\\item 0.17\n",
       "\\item 0.18\n",
       "\\end{enumerate*}\n"
      ],
      "text/markdown": [
       "1. 0.01\n",
       "2. 0.02\n",
       "3. 0.03\n",
       "4. 0.04\n",
       "5. 0.05\n",
       "6. 0.06\n",
       "7. 0.07\n",
       "8. 0.08\n",
       "9. 0.09\n",
       "10. 0.1\n",
       "11. 0.11\n",
       "12. 0.12\n",
       "13. 0.13\n",
       "14. 0.14\n",
       "15. 0.15\n",
       "16. 0.16\n",
       "17. 0.17\n",
       "18. 0.18\n",
       "\n",
       "\n"
      ],
      "text/plain": [
       " [1] 0.01 0.02 0.03 0.04 0.05 0.06 0.07 0.08 0.09 0.10 0.11 0.12 0.13 0.14 0.15\n",
       "[16] 0.16 0.17 0.18"
      ]
     },
     "metadata": {},
     "output_type": "display_data"
    }
   ],
   "source": [
    "# find the range of indecies in the middle of the sequence\n",
    "# such that if segmentation were performed at that index\n",
    "# then the lengh of the segments on either side would be\n",
    "# would be longer than the minimum length\n",
    "\n",
    "data_length     <- data[[\"length\"]] # array\n",
    "cumlength_left  <- cumsum(data_length);\n",
    "cumlength_left\n",
    "cumlength_right <- cumsum(rev(data_length))\n",
    "cumlength_right"
   ]
  },
  {
   "cell_type": "code",
   "execution_count": 13,
   "metadata": {},
   "outputs": [
    {
     "data": {
      "text/html": [
       "<style>\n",
       ".list-inline {list-style: none; margin:0; padding: 0}\n",
       ".list-inline>li {display: inline-block}\n",
       ".list-inline>li:not(:last-child)::after {content: \"\\00b7\"; padding: 0 .5ex}\n",
       "</style>\n",
       "<ol class=list-inline><li>1</li><li>2</li><li>3</li></ol>\n"
      ],
      "text/latex": [
       "\\begin{enumerate*}\n",
       "\\item 1\n",
       "\\item 2\n",
       "\\item 3\n",
       "\\end{enumerate*}\n"
      ],
      "text/markdown": [
       "1. 1\n",
       "2. 2\n",
       "3. 3\n",
       "\n",
       "\n"
      ],
      "text/plain": [
       "[1] 1 2 3"
      ]
     },
     "metadata": {},
     "output_type": "display_data"
    },
    {
     "data": {
      "text/html": [
       "<style>\n",
       ".list-inline {list-style: none; margin:0; padding: 0}\n",
       ".list-inline>li {display: inline-block}\n",
       ".list-inline>li:not(:last-child)::after {content: \"\\00b7\"; padding: 0 .5ex}\n",
       "</style>\n",
       "<ol class=list-inline><li>18</li><li>17</li><li>16</li></ol>\n"
      ],
      "text/latex": [
       "\\begin{enumerate*}\n",
       "\\item 18\n",
       "\\item 17\n",
       "\\item 16\n",
       "\\end{enumerate*}\n"
      ],
      "text/markdown": [
       "1. 18\n",
       "2. 17\n",
       "3. 16\n",
       "\n",
       "\n"
      ],
      "text/plain": [
       "[1] 18 17 16"
      ]
     },
     "metadata": {},
     "output_type": "display_data"
    }
   ],
   "source": [
    "k_left  <-                  c(1, which(cumlength_left  <= min.length) + 1)\n",
    "k_left\n",
    "\n",
    "k_right <- nrow(data_var) - c(0, which(cumlength_right <= min.length))\n",
    "k_right"
   ]
  },
  {
   "cell_type": "code",
   "execution_count": 14,
   "metadata": {},
   "outputs": [
    {
     "data": {
      "text/html": [
       "<style>\n",
       ".list-inline {list-style: none; margin:0; padding: 0}\n",
       ".list-inline>li {display: inline-block}\n",
       ".list-inline>li:not(:last-child)::after {content: \"\\00b7\"; padding: 0 .5ex}\n",
       "</style>\n",
       "<ol class=list-inline><li>4</li><li>5</li><li>6</li><li>7</li><li>8</li><li>9</li><li>10</li><li>11</li><li>12</li><li>13</li><li>14</li><li>15</li></ol>\n"
      ],
      "text/latex": [
       "\\begin{enumerate*}\n",
       "\\item 4\n",
       "\\item 5\n",
       "\\item 6\n",
       "\\item 7\n",
       "\\item 8\n",
       "\\item 9\n",
       "\\item 10\n",
       "\\item 11\n",
       "\\item 12\n",
       "\\item 13\n",
       "\\item 14\n",
       "\\item 15\n",
       "\\end{enumerate*}\n"
      ],
      "text/markdown": [
       "1. 4\n",
       "2. 5\n",
       "3. 6\n",
       "4. 7\n",
       "5. 8\n",
       "6. 9\n",
       "7. 10\n",
       "8. 11\n",
       "9. 12\n",
       "10. 13\n",
       "11. 14\n",
       "12. 15\n",
       "\n",
       "\n"
      ],
      "text/plain": [
       " [1]  4  5  6  7  8  9 10 11 12 13 14 15"
      ]
     },
     "metadata": {},
     "output_type": "display_data"
    }
   ],
   "source": [
    "# note that negating the indecies has the effect of\n",
    "# removing those indecies from the list\n",
    "k <- c(1 : nrow(data_var))[-c(k_left, k_right)]\n",
    "k"
   ]
  },
  {
   "cell_type": "markdown",
   "metadata": {},
   "source": [
    "In principal the `cumq` function computes the Q value of a split in n observations:  Q is a measure of hetrogenity of a given split.\n",
    "\n",
    "$$\n",
    "Q = 1 - \\frac{N_a \\sigma^{2}_{a} + N_b \\sigma^{2}_{b}}{N \\sigma^{2}}\n",
    "$$\n",
    "\n",
    "Where $N_a$ and $\\sigma_a$ are the number of samples and standard deviation of the first subset, $N_b$ and $\\sigma_b$ the same for the second subset, and $N$ and $\\sigma$ the same for the entire dataset.\n",
    "\n",
    "Internal to the function:\n",
    "\n",
    "`cum_n` produces a list which is 1 item shorter than data, since there are $n-1$ splits in $n$ observations\n",
    "\n",
    "The computation of `cqvalue` is difficult to understand. It uses a lot-to-date method for calculating the standard deviation involving ['power sums'](https://mathworld.wolfram.com/PowerSum.html);\n",
    "From wikipedia;\n",
    "\n",
    "We can get the lot-to-date variance as\n",
    "$$\n",
    "s_j = \\sum_{k=1}^N{x^{j}_k}\n",
    "$$\n",
    "$$\n",
    "\\sigma^2 \n",
    "= \\left (\\frac{\\sqrt{N s_2 - s_{1}^2}}{N} \\right )^2 \n",
    "= \\frac{N s_2 - s_{1}^2}{N^2}\n",
    "$$\n",
    "\n",
    "\n",
    "Substituting into the above we get;\n",
    "\n",
    "$$\n",
    "Q = 1 - \\frac{\n",
    "    N_a \\frac{N_a s_{2 a} - s_{1 a}^2}{N_a^2} \n",
    "    + \n",
    "    N_b \\frac{N_b s_{2 b} - s_{1 b}^2}{N_b^2}\n",
    "    }{\n",
    "        N \\frac{N s_{2} - s_{1}^2}{N^2}\n",
    "    }\n",
    "$$\n",
    "\n",
    "or the final formula\n",
    "$$\n",
    "Q = 1 - \\frac{\n",
    "    s_{2 a} - \\frac{s_{1 a}^2}{N_a}\n",
    "    + \n",
    "    s_{2 b} - \\frac{s_{1 b}^2}{N_b}\n",
    "    }{\n",
    "        s_2 - \\frac{s_{1}^2}{N}\n",
    "    }\n",
    "$$"
   ]
  },
  {
   "cell_type": "markdown",
   "metadata": {},
   "source": []
  },
  {
   "cell_type": "code",
   "execution_count": 10,
   "metadata": {},
   "outputs": [],
   "source": [
    "cumq <- function(data){ # debug: use cumq to calculate q values along all segment points\n",
    "    n                    <- length(data)\n",
    "    cum_n                <- 1:(n - 1) # reduces length by 1\n",
    "\tstopifnot(length(cum_n) == length(data) - 1)\n",
    "    data_left            <- data[cum_n]\n",
    "    data_right           <- rev(data)[cum_n]\n",
    "    cum_data_left        <- cumsum(data_left)\n",
    "    cum_data_right       <- rev(cumsum(data_right))\n",
    "    sumd                 <- sum(data)\n",
    "    cum_datasquare_left  <- cumsum(data_left * data_left)\n",
    "    cum_datasquare_right <- rev(cumsum(data_right * data_right))\n",
    "\n",
    "    cqvalue <- (\n",
    "        1 \n",
    "        - (\n",
    "            (cum_datasquare_left  - cum_data_left  * cum_data_left  / cum_n) +\n",
    "            (cum_datasquare_right - cum_data_right * cum_data_right / rev(cum_n))\n",
    "        ) / (sum(data * data) - sumd * sumd / n)\n",
    "    )\n",
    "\n",
    "    return(cqvalue)\n",
    "}"
   ]
  },
  {
   "cell_type": "code",
   "execution_count": 73,
   "metadata": {},
   "outputs": [],
   "source": [
    "seg2 <- function(data, min.length){\n",
    "    data_var <- data[, ..var]\n",
    "    data_length <- data[[length]] # array\n",
    "    cumlength_left <- cumsum(data_length);\n",
    "\tcumlength.right <- cumsum(rev(data_length))\n",
    "    k_left <- c(1, which(cumlength_left <= min.length) + 1)\n",
    "    k_right <- nrow(data_var) - c(0, which(cumlength.right <= min.length))\n",
    "    k <- c(1:nrow(data_var))[-c(k_left, k_right)]\n",
    "\n",
    "    qvalue <- matrix(NA, length(k), n_var)\n",
    "    for (i in 1:n_var){\n",
    "        qvalue[, i] <- cumq(data_var[[i]])[k - 1] # debug: use cumq function instead of q function\n",
    "    }\n",
    "    qvalue <- rowMeans(qvalue)\n",
    "    maxk <- which(qvalue == max(qvalue)) + max(k_left)\n",
    "    return(maxk)\n",
    "  }"
   ]
  },
  {
   "cell_type": "code",
   "execution_count": 72,
   "metadata": {},
   "outputs": [
    {
     "ename": "ERROR",
     "evalue": "Error in qvalue[, i] <- cumq(data_var[[i]])[k - 1]: replacement has length zero\n",
     "output_type": "error",
     "traceback": [
      "Error in qvalue[, i] <- cumq(data_var[[i]])[k - 1]: replacement has length zero\nTraceback:\n"
     ]
    }
   ],
   "source": [
    "qvalue <- matrix(NA, length(k), length(var))\n",
    "for (i in 1 : length(var)) {\n",
    "\tqvalue[, i] <- cumq(data_var[[i]])[k - 1] # debug: use cumq function instead of q function\n",
    "}"
   ]
  },
  {
   "cell_type": "code",
   "execution_count": 50,
   "metadata": {},
   "outputs": [
    {
     "data": {
      "text/html": [
       "<table class=\"dataframe\">\n",
       "<caption>A matrix: 12 × 2 of type dbl</caption>\n",
       "<tbody>\n",
       "\t<tr><td>0.2316742</td><td>0.1541401274</td></tr>\n",
       "\t<tr><td>0.1709761</td><td>0.1642402184</td></tr>\n",
       "\t<tr><td>0.2675948</td><td>0.0941695247</td></tr>\n",
       "\t<tr><td>0.2992081</td><td>0.0286624204</td></tr>\n",
       "\t<tr><td>0.5192455</td><td>0.0100090992</td></tr>\n",
       "\t<tr><td>0.3896493</td><td>0.0003184713</td></tr>\n",
       "\t<tr><td>0.4524887</td><td>0.0007077141</td></tr>\n",
       "\t<tr><td>0.4380090</td><td>0.0385350318</td></tr>\n",
       "\t<tr><td>0.2717283</td><td>0.2323599967</td></tr>\n",
       "\t<tr><td>0.2737557</td><td>0.2579617834</td></tr>\n",
       "\t<tr><td>0.3709711</td><td>0.2352768251</td></tr>\n",
       "\t<tr><td>0.1564318</td><td>0.1642402184</td></tr>\n",
       "</tbody>\n",
       "</table>\n"
      ],
      "text/latex": [
       "A matrix: 12 × 2 of type dbl\n",
       "\\begin{tabular}{ll}\n",
       "\t 0.2316742 & 0.1541401274\\\\\n",
       "\t 0.1709761 & 0.1642402184\\\\\n",
       "\t 0.2675948 & 0.0941695247\\\\\n",
       "\t 0.2992081 & 0.0286624204\\\\\n",
       "\t 0.5192455 & 0.0100090992\\\\\n",
       "\t 0.3896493 & 0.0003184713\\\\\n",
       "\t 0.4524887 & 0.0007077141\\\\\n",
       "\t 0.4380090 & 0.0385350318\\\\\n",
       "\t 0.2717283 & 0.2323599967\\\\\n",
       "\t 0.2737557 & 0.2579617834\\\\\n",
       "\t 0.3709711 & 0.2352768251\\\\\n",
       "\t 0.1564318 & 0.1642402184\\\\\n",
       "\\end{tabular}\n"
      ],
      "text/markdown": [
       "\n",
       "A matrix: 12 × 2 of type dbl\n",
       "\n",
       "| 0.2316742 | 0.1541401274 |\n",
       "| 0.1709761 | 0.1642402184 |\n",
       "| 0.2675948 | 0.0941695247 |\n",
       "| 0.2992081 | 0.0286624204 |\n",
       "| 0.5192455 | 0.0100090992 |\n",
       "| 0.3896493 | 0.0003184713 |\n",
       "| 0.4524887 | 0.0007077141 |\n",
       "| 0.4380090 | 0.0385350318 |\n",
       "| 0.2717283 | 0.2323599967 |\n",
       "| 0.2737557 | 0.2579617834 |\n",
       "| 0.3709711 | 0.2352768251 |\n",
       "| 0.1564318 | 0.1642402184 |\n",
       "\n"
      ],
      "text/plain": [
       "      [,1]      [,2]        \n",
       " [1,] 0.2316742 0.1541401274\n",
       " [2,] 0.1709761 0.1642402184\n",
       " [3,] 0.2675948 0.0941695247\n",
       " [4,] 0.2992081 0.0286624204\n",
       " [5,] 0.5192455 0.0100090992\n",
       " [6,] 0.3896493 0.0003184713\n",
       " [7,] 0.4524887 0.0007077141\n",
       " [8,] 0.4380090 0.0385350318\n",
       " [9,] 0.2717283 0.2323599967\n",
       "[10,] 0.2737557 0.2579617834\n",
       "[11,] 0.3709711 0.2352768251\n",
       "[12,] 0.1564318 0.1642402184"
      ]
     },
     "metadata": {},
     "output_type": "display_data"
    },
    {
     "data": {
      "text/html": [
       "<style>\n",
       ".list-inline {list-style: none; margin:0; padding: 0}\n",
       ".list-inline>li {display: inline-block}\n",
       ".list-inline>li:not(:last-child)::after {content: \"\\00b7\"; padding: 0 .5ex}\n",
       "</style>\n",
       "<ol class=list-inline><li>0.192907167766665</li><li>0.167608150560567</li><li>0.180882186666548</li><li>0.163935282589273</li><li>0.264627279801502</li><li>0.194983896302274</li><li>0.226598200933158</li><li>0.238272040810445</li><li>0.252044134209739</li><li>0.265858719774044</li><li>0.303123967711684</li><li>0.160336010935486</li></ol>\n"
      ],
      "text/latex": [
       "\\begin{enumerate*}\n",
       "\\item 0.192907167766665\n",
       "\\item 0.167608150560567\n",
       "\\item 0.180882186666548\n",
       "\\item 0.163935282589273\n",
       "\\item 0.264627279801502\n",
       "\\item 0.194983896302274\n",
       "\\item 0.226598200933158\n",
       "\\item 0.238272040810445\n",
       "\\item 0.252044134209739\n",
       "\\item 0.265858719774044\n",
       "\\item 0.303123967711684\n",
       "\\item 0.160336010935486\n",
       "\\end{enumerate*}\n"
      ],
      "text/markdown": [
       "1. 0.192907167766665\n",
       "2. 0.167608150560567\n",
       "3. 0.180882186666548\n",
       "4. 0.163935282589273\n",
       "5. 0.264627279801502\n",
       "6. 0.194983896302274\n",
       "7. 0.226598200933158\n",
       "8. 0.238272040810445\n",
       "9. 0.252044134209739\n",
       "10. 0.265858719774044\n",
       "11. 0.303123967711684\n",
       "12. 0.160336010935486\n",
       "\n",
       "\n"
      ],
      "text/plain": [
       " [1] 0.1929072 0.1676082 0.1808822 0.1639353 0.2646273 0.1949839 0.2265982\n",
       " [8] 0.2382720 0.2520441 0.2658587 0.3031240 0.1603360"
      ]
     },
     "metadata": {},
     "output_type": "display_data"
    }
   ],
   "source": [
    "qvalue <- matrix(NA, length(k), length(var))\n",
    "i=1\n",
    "\n",
    "    data_each_var <- data_var[[i]] \n",
    "    n                    <- length(data_each_var)\n",
    "    cum_n                <- 1:(n - 1) # reduces length by 1\n",
    "    stopifnot(length(cum_n) == length(data_each_var) - 1)\n",
    "    data_left            <- data_each_var[cum_n]\n",
    "    data_right           <- rev(data_each_var)[cum_n]\n",
    "    cum_data_left        <- cumsum(data_left)\n",
    "    cum_data_right       <- rev(cumsum(data_right))\n",
    "    sumd                 <- sum(data_each_var)\n",
    "    cum_datasquare_left  <- cumsum(data_left * data_left)\n",
    "    cum_datasquare_right <- rev(cumsum(data_right * data_right))\n",
    "\n",
    "    cqvalue <- (\n",
    "        1 \n",
    "        - (\n",
    "            (cum_datasquare_left  - cum_data_left  * cum_data_left  / cum_n) +\n",
    "            (cum_datasquare_right - cum_data_right * cum_data_right / rev(cum_n))\n",
    "        ) / (sum(data_each_var * data_each_var) - sumd * sumd / n)\n",
    "    )\n",
    "    qvalue[, i] <- cqvalue[k - 1]\n",
    "i=2\n",
    "    data_each_var <- data_var[[i]] \n",
    "    n                    <- length(data_each_var)\n",
    "    cum_n                <- 1:(n - 1) # reduces length by 1\n",
    "    stopifnot(length(cum_n) == length(data_each_var) - 1)\n",
    "    data_left            <- data_each_var[cum_n]\n",
    "    data_right           <- rev(data_each_var)[cum_n]\n",
    "    cum_data_left        <- cumsum(data_left)\n",
    "    cum_data_right       <- rev(cumsum(data_right))\n",
    "    sumd                 <- sum(data_each_var)\n",
    "    cum_datasquare_left  <- cumsum(data_left * data_left)\n",
    "    cum_datasquare_right <- rev(cumsum(data_right * data_right))\n",
    "\n",
    "    cqvalue <- (\n",
    "        1\n",
    "        - (\n",
    "            (cum_datasquare_left  - cum_data_left  * cum_data_left  / cum_n) +\n",
    "            (cum_datasquare_right - cum_data_right * cum_data_right / rev(cum_n))\n",
    "        ) / (sum(data_each_var * data_each_var) - sumd * sumd / n)\n",
    "    )\n",
    "    qvalue[, i] <- cqvalue[k - 1]\n",
    "\t\n",
    "qvalue\n",
    "qvalue <- rowMeans(qvalue)\n",
    "qvalue"
   ]
  },
  {
   "cell_type": "code",
   "execution_count": 63,
   "metadata": {},
   "outputs": [
    {
     "data": {
      "text/html": [
       "14"
      ],
      "text/latex": [
       "14"
      ],
      "text/markdown": [
       "14"
      ],
      "text/plain": [
       "[1] 14"
      ]
     },
     "metadata": {},
     "output_type": "display_data"
    },
    {
     "data": {
      "text/html": [
       "<style>\n",
       ".list-inline {list-style: none; margin:0; padding: 0}\n",
       ".list-inline>li {display: inline-block}\n",
       ".list-inline>li:not(:last-child)::after {content: \"\\00b7\"; padding: 0 .5ex}\n",
       "</style>\n",
       "<ol class=list-inline><li>1</li><li>14</li></ol>\n"
      ],
      "text/latex": [
       "\\begin{enumerate*}\n",
       "\\item 1\n",
       "\\item 14\n",
       "\\end{enumerate*}\n"
      ],
      "text/markdown": [
       "1. 1\n",
       "2. 14\n",
       "\n",
       "\n"
      ],
      "text/plain": [
       "[1]  1 14"
      ]
     },
     "metadata": {},
     "output_type": "display_data"
    },
    {
     "data": {
      "text/html": [
       "<style>\n",
       ".list-inline {list-style: none; margin:0; padding: 0}\n",
       ".list-inline>li {display: inline-block}\n",
       ".list-inline>li:not(:last-child)::after {content: \"\\00b7\"; padding: 0 .5ex}\n",
       "</style>\n",
       "<ol class=list-inline><li>13</li><li>18</li></ol>\n"
      ],
      "text/latex": [
       "\\begin{enumerate*}\n",
       "\\item 13\n",
       "\\item 18\n",
       "\\end{enumerate*}\n"
      ],
      "text/markdown": [
       "1. 13\n",
       "2. 18\n",
       "\n",
       "\n"
      ],
      "text/plain": [
       "[1] 13 18"
      ]
     },
     "metadata": {},
     "output_type": "display_data"
    },
    {
     "data": {
      "text/html": [
       "<style>\n",
       ".list-inline {list-style: none; margin:0; padding: 0}\n",
       ".list-inline>li {display: inline-block}\n",
       ".list-inline>li:not(:last-child)::after {content: \"\\00b7\"; padding: 0 .5ex}\n",
       "</style>\n",
       "<ol class=list-inline><li>13</li><li>5</li></ol>\n"
      ],
      "text/latex": [
       "\\begin{enumerate*}\n",
       "\\item 13\n",
       "\\item 5\n",
       "\\end{enumerate*}\n"
      ],
      "text/markdown": [
       "1. 13\n",
       "2. 5\n",
       "\n",
       "\n"
      ],
      "text/plain": [
       "[1] 13  5"
      ]
     },
     "metadata": {},
     "output_type": "display_data"
    },
    {
     "data": {
      "text/html": [
       "<style>\n",
       ".list-inline {list-style: none; margin:0; padding: 0}\n",
       ".list-inline>li {display: inline-block}\n",
       ".list-inline>li:not(:last-child)::after {content: \"\\00b7\"; padding: 0 .5ex}\n",
       "</style>\n",
       "<ol class=list-inline><li>0</li><li>13</li><li>18</li></ol>\n"
      ],
      "text/latex": [
       "\\begin{enumerate*}\n",
       "\\item 0\n",
       "\\item 13\n",
       "\\item 18\n",
       "\\end{enumerate*}\n"
      ],
      "text/markdown": [
       "1. 0\n",
       "2. 13\n",
       "3. 18\n",
       "\n",
       "\n"
      ],
      "text/plain": [
       "[1]  0 13 18"
      ]
     },
     "metadata": {},
     "output_type": "display_data"
    }
   ],
   "source": [
    "maxk <- which(qvalue == max(qvalue)) + max(k_left)\n",
    "#ss<-c(4,6)\n",
    "ss<-maxk\n",
    "ss\n",
    "\n",
    "k1 <- c(1, ss)\n",
    "k1\n",
    "\n",
    "k2 <- c(ss - 1, nrow(data))\n",
    "k2\n",
    "\n",
    "ll <- k2 - k1 + 1\n",
    "ll\n",
    "\n",
    "cum.ll <- c(0, cumsum(ll))\n",
    "cum.ll\n"
   ]
  },
  {
   "cell_type": "code",
   "execution_count": 64,
   "metadata": {},
   "outputs": [
    {
     "data": {
      "text/html": [
       "<style>\n",
       ".list-inline {list-style: none; margin:0; padding: 0}\n",
       ".list-inline>li {display: inline-block}\n",
       ".list-inline>li:not(:last-child)::after {content: \"\\00b7\"; padding: 0 .5ex}\n",
       "</style>\n",
       "<ol class=list-inline><li>1</li><li>1</li><li>1</li><li>1</li><li>1</li><li>1</li><li>1</li><li>1</li><li>1</li><li>1</li><li>1</li><li>1</li><li>1</li><li>2</li><li>2</li><li>2</li><li>2</li><li>2</li></ol>\n"
      ],
      "text/latex": [
       "\\begin{enumerate*}\n",
       "\\item 1\n",
       "\\item 1\n",
       "\\item 1\n",
       "\\item 1\n",
       "\\item 1\n",
       "\\item 1\n",
       "\\item 1\n",
       "\\item 1\n",
       "\\item 1\n",
       "\\item 1\n",
       "\\item 1\n",
       "\\item 1\n",
       "\\item 1\n",
       "\\item 2\n",
       "\\item 2\n",
       "\\item 2\n",
       "\\item 2\n",
       "\\item 2\n",
       "\\end{enumerate*}\n"
      ],
      "text/markdown": [
       "1. 1\n",
       "2. 1\n",
       "3. 1\n",
       "4. 1\n",
       "5. 1\n",
       "6. 1\n",
       "7. 1\n",
       "8. 1\n",
       "9. 1\n",
       "10. 1\n",
       "11. 1\n",
       "12. 1\n",
       "13. 1\n",
       "14. 2\n",
       "15. 2\n",
       "16. 2\n",
       "17. 2\n",
       "18. 2\n",
       "\n",
       "\n"
      ],
      "text/plain": [
       " [1] 1 1 1 1 1 1 1 1 1 1 1 1 1 2 2 2 2 2"
      ]
     },
     "metadata": {},
     "output_type": "display_data"
    },
    {
     "data": {
      "text/html": [
       "<dl>\n",
       "\t<dt>$`1`</dt>\n",
       "\t\t<dd><table class=\"dataframe\">\n",
       "<caption>A data.table: 13 × 5</caption>\n",
       "<thead>\n",
       "\t<tr><th scope=col>var_a</th><th scope=col>var_b</th><th scope=col>slk_from</th><th scope=col>slk_to</th><th scope=col>length</th></tr>\n",
       "\t<tr><th scope=col>&lt;dbl&gt;</th><th scope=col>&lt;dbl&gt;</th><th scope=col>&lt;dbl&gt;</th><th scope=col>&lt;dbl&gt;</th><th scope=col>&lt;dbl&gt;</th></tr>\n",
       "</thead>\n",
       "<tbody>\n",
       "\t<tr><td>1</td><td>3</td><td>0.00</td><td>0.01</td><td>0.01</td></tr>\n",
       "\t<tr><td>2</td><td>2</td><td>0.01</td><td>0.02</td><td>0.01</td></tr>\n",
       "\t<tr><td>3</td><td>1</td><td>0.02</td><td>0.03</td><td>0.01</td></tr>\n",
       "\t<tr><td>4</td><td>3</td><td>0.03</td><td>0.04</td><td>0.01</td></tr>\n",
       "\t<tr><td>2</td><td>5</td><td>0.04</td><td>0.05</td><td>0.01</td></tr>\n",
       "\t<tr><td>3</td><td>6</td><td>0.05</td><td>0.06</td><td>0.01</td></tr>\n",
       "\t<tr><td>1</td><td>5</td><td>0.06</td><td>0.07</td><td>0.01</td></tr>\n",
       "\t<tr><td>5</td><td>6</td><td>0.07</td><td>0.08</td><td>0.01</td></tr>\n",
       "\t<tr><td>3</td><td>4</td><td>0.08</td><td>0.09</td><td>0.01</td></tr>\n",
       "\t<tr><td>4</td><td>7</td><td>0.09</td><td>0.10</td><td>0.01</td></tr>\n",
       "\t<tr><td>6</td><td>9</td><td>0.10</td><td>0.11</td><td>0.01</td></tr>\n",
       "\t<tr><td>4</td><td>4</td><td>0.11</td><td>0.12</td><td>0.01</td></tr>\n",
       "\t<tr><td>3</td><td>3</td><td>0.12</td><td>0.13</td><td>0.01</td></tr>\n",
       "</tbody>\n",
       "</table>\n",
       "</dd>\n",
       "\t<dt>$`2`</dt>\n",
       "\t\t<dd><table class=\"dataframe\">\n",
       "<caption>A data.table: 5 × 5</caption>\n",
       "<thead>\n",
       "\t<tr><th scope=col>var_a</th><th scope=col>var_b</th><th scope=col>slk_from</th><th scope=col>slk_to</th><th scope=col>length</th></tr>\n",
       "\t<tr><th scope=col>&lt;dbl&gt;</th><th scope=col>&lt;dbl&gt;</th><th scope=col>&lt;dbl&gt;</th><th scope=col>&lt;dbl&gt;</th><th scope=col>&lt;dbl&gt;</th></tr>\n",
       "</thead>\n",
       "<tbody>\n",
       "\t<tr><td>7</td><td>2</td><td>0.13</td><td>0.14</td><td>0.01</td></tr>\n",
       "\t<tr><td>5</td><td>3</td><td>0.14</td><td>0.15</td><td>0.01</td></tr>\n",
       "\t<tr><td>6</td><td>1</td><td>0.15</td><td>0.16</td><td>0.01</td></tr>\n",
       "\t<tr><td>4</td><td>3</td><td>0.16</td><td>0.17</td><td>0.01</td></tr>\n",
       "\t<tr><td>5</td><td>2</td><td>0.17</td><td>0.18</td><td>0.01</td></tr>\n",
       "</tbody>\n",
       "</table>\n",
       "</dd>\n",
       "</dl>\n"
      ],
      "text/latex": [
       "\\begin{description}\n",
       "\\item[\\$`1`] A data.table: 13 × 5\n",
       "\\begin{tabular}{lllll}\n",
       " var\\_a & var\\_b & slk\\_from & slk\\_to & length\\\\\n",
       " <dbl> & <dbl> & <dbl> & <dbl> & <dbl>\\\\\n",
       "\\hline\n",
       "\t 1 & 3 & 0.00 & 0.01 & 0.01\\\\\n",
       "\t 2 & 2 & 0.01 & 0.02 & 0.01\\\\\n",
       "\t 3 & 1 & 0.02 & 0.03 & 0.01\\\\\n",
       "\t 4 & 3 & 0.03 & 0.04 & 0.01\\\\\n",
       "\t 2 & 5 & 0.04 & 0.05 & 0.01\\\\\n",
       "\t 3 & 6 & 0.05 & 0.06 & 0.01\\\\\n",
       "\t 1 & 5 & 0.06 & 0.07 & 0.01\\\\\n",
       "\t 5 & 6 & 0.07 & 0.08 & 0.01\\\\\n",
       "\t 3 & 4 & 0.08 & 0.09 & 0.01\\\\\n",
       "\t 4 & 7 & 0.09 & 0.10 & 0.01\\\\\n",
       "\t 6 & 9 & 0.10 & 0.11 & 0.01\\\\\n",
       "\t 4 & 4 & 0.11 & 0.12 & 0.01\\\\\n",
       "\t 3 & 3 & 0.12 & 0.13 & 0.01\\\\\n",
       "\\end{tabular}\n",
       "\n",
       "\\item[\\$`2`] A data.table: 5 × 5\n",
       "\\begin{tabular}{lllll}\n",
       " var\\_a & var\\_b & slk\\_from & slk\\_to & length\\\\\n",
       " <dbl> & <dbl> & <dbl> & <dbl> & <dbl>\\\\\n",
       "\\hline\n",
       "\t 7 & 2 & 0.13 & 0.14 & 0.01\\\\\n",
       "\t 5 & 3 & 0.14 & 0.15 & 0.01\\\\\n",
       "\t 6 & 1 & 0.15 & 0.16 & 0.01\\\\\n",
       "\t 4 & 3 & 0.16 & 0.17 & 0.01\\\\\n",
       "\t 5 & 2 & 0.17 & 0.18 & 0.01\\\\\n",
       "\\end{tabular}\n",
       "\n",
       "\\end{description}\n"
      ],
      "text/markdown": [
       "$`1`\n",
       ":   \n",
       "A data.table: 13 × 5\n",
       "\n",
       "| var_a &lt;dbl&gt; | var_b &lt;dbl&gt; | slk_from &lt;dbl&gt; | slk_to &lt;dbl&gt; | length &lt;dbl&gt; |\n",
       "|---|---|---|---|---|\n",
       "| 1 | 3 | 0.00 | 0.01 | 0.01 |\n",
       "| 2 | 2 | 0.01 | 0.02 | 0.01 |\n",
       "| 3 | 1 | 0.02 | 0.03 | 0.01 |\n",
       "| 4 | 3 | 0.03 | 0.04 | 0.01 |\n",
       "| 2 | 5 | 0.04 | 0.05 | 0.01 |\n",
       "| 3 | 6 | 0.05 | 0.06 | 0.01 |\n",
       "| 1 | 5 | 0.06 | 0.07 | 0.01 |\n",
       "| 5 | 6 | 0.07 | 0.08 | 0.01 |\n",
       "| 3 | 4 | 0.08 | 0.09 | 0.01 |\n",
       "| 4 | 7 | 0.09 | 0.10 | 0.01 |\n",
       "| 6 | 9 | 0.10 | 0.11 | 0.01 |\n",
       "| 4 | 4 | 0.11 | 0.12 | 0.01 |\n",
       "| 3 | 3 | 0.12 | 0.13 | 0.01 |\n",
       "\n",
       "\n",
       "$`2`\n",
       ":   \n",
       "A data.table: 5 × 5\n",
       "\n",
       "| var_a &lt;dbl&gt; | var_b &lt;dbl&gt; | slk_from &lt;dbl&gt; | slk_to &lt;dbl&gt; | length &lt;dbl&gt; |\n",
       "|---|---|---|---|---|\n",
       "| 7 | 2 | 0.13 | 0.14 | 0.01 |\n",
       "| 5 | 3 | 0.14 | 0.15 | 0.01 |\n",
       "| 6 | 1 | 0.15 | 0.16 | 0.01 |\n",
       "| 4 | 3 | 0.16 | 0.17 | 0.01 |\n",
       "| 5 | 2 | 0.17 | 0.18 | 0.01 |\n",
       "\n",
       "\n",
       "\n",
       "\n"
      ],
      "text/plain": [
       "$`1`\n",
       "    var_a var_b slk_from slk_to length\n",
       " 1:     1     3     0.00   0.01   0.01\n",
       " 2:     2     2     0.01   0.02   0.01\n",
       " 3:     3     1     0.02   0.03   0.01\n",
       " 4:     4     3     0.03   0.04   0.01\n",
       " 5:     2     5     0.04   0.05   0.01\n",
       " 6:     3     6     0.05   0.06   0.01\n",
       " 7:     1     5     0.06   0.07   0.01\n",
       " 8:     5     6     0.07   0.08   0.01\n",
       " 9:     3     4     0.08   0.09   0.01\n",
       "10:     4     7     0.09   0.10   0.01\n",
       "11:     6     9     0.10   0.11   0.01\n",
       "12:     4     4     0.11   0.12   0.01\n",
       "13:     3     3     0.12   0.13   0.01\n",
       "\n",
       "$`2`\n",
       "   var_a var_b slk_from slk_to length\n",
       "1:     7     2     0.13   0.14   0.01\n",
       "2:     5     3     0.14   0.15   0.01\n",
       "3:     6     1     0.15   0.16   0.01\n",
       "4:     4     3     0.16   0.17   0.01\n",
       "5:     5     2     0.17   0.18   0.01\n"
      ]
     },
     "metadata": {},
     "output_type": "display_data"
    }
   ],
   "source": [
    "segid <- c(rep(1:length(ll), ll))\n",
    "segid\n",
    "\n",
    "segdatalist <- split(data, segid)\n",
    "segdatalist"
   ]
  },
  {
   "cell_type": "code",
   "execution_count": 67,
   "metadata": {},
   "outputs": [
    {
     "data": {
      "text/html": [
       "<table class=\"dataframe\">\n",
       "<caption>A data.table: 18 × 2</caption>\n",
       "<thead>\n",
       "\t<tr><th scope=col>length</th><th scope=col>seg.id</th></tr>\n",
       "\t<tr><th scope=col>&lt;dbl&gt;</th><th scope=col>&lt;dbl&gt;</th></tr>\n",
       "</thead>\n",
       "<tbody>\n",
       "\t<tr><td>0.01</td><td>1</td></tr>\n",
       "\t<tr><td>0.01</td><td>1</td></tr>\n",
       "\t<tr><td>0.01</td><td>1</td></tr>\n",
       "\t<tr><td>0.01</td><td>1</td></tr>\n",
       "\t<tr><td>0.01</td><td>1</td></tr>\n",
       "\t<tr><td>0.01</td><td>1</td></tr>\n",
       "\t<tr><td>0.01</td><td>1</td></tr>\n",
       "\t<tr><td>0.01</td><td>1</td></tr>\n",
       "\t<tr><td>0.01</td><td>1</td></tr>\n",
       "\t<tr><td>0.01</td><td>1</td></tr>\n",
       "\t<tr><td>0.01</td><td>1</td></tr>\n",
       "\t<tr><td>0.01</td><td>1</td></tr>\n",
       "\t<tr><td>0.01</td><td>1</td></tr>\n",
       "\t<tr><td>0.01</td><td>2</td></tr>\n",
       "\t<tr><td>0.01</td><td>2</td></tr>\n",
       "\t<tr><td>0.01</td><td>2</td></tr>\n",
       "\t<tr><td>0.01</td><td>2</td></tr>\n",
       "\t<tr><td>0.01</td><td>2</td></tr>\n",
       "</tbody>\n",
       "</table>\n"
      ],
      "text/latex": [
       "A data.table: 18 × 2\n",
       "\\begin{tabular}{ll}\n",
       " length & seg.id\\\\\n",
       " <dbl> & <dbl>\\\\\n",
       "\\hline\n",
       "\t 0.01 & 1\\\\\n",
       "\t 0.01 & 1\\\\\n",
       "\t 0.01 & 1\\\\\n",
       "\t 0.01 & 1\\\\\n",
       "\t 0.01 & 1\\\\\n",
       "\t 0.01 & 1\\\\\n",
       "\t 0.01 & 1\\\\\n",
       "\t 0.01 & 1\\\\\n",
       "\t 0.01 & 1\\\\\n",
       "\t 0.01 & 1\\\\\n",
       "\t 0.01 & 1\\\\\n",
       "\t 0.01 & 1\\\\\n",
       "\t 0.01 & 1\\\\\n",
       "\t 0.01 & 2\\\\\n",
       "\t 0.01 & 2\\\\\n",
       "\t 0.01 & 2\\\\\n",
       "\t 0.01 & 2\\\\\n",
       "\t 0.01 & 2\\\\\n",
       "\\end{tabular}\n"
      ],
      "text/markdown": [
       "\n",
       "A data.table: 18 × 2\n",
       "\n",
       "| length &lt;dbl&gt; | seg.id &lt;dbl&gt; |\n",
       "|---|---|\n",
       "| 0.01 | 1 |\n",
       "| 0.01 | 1 |\n",
       "| 0.01 | 1 |\n",
       "| 0.01 | 1 |\n",
       "| 0.01 | 1 |\n",
       "| 0.01 | 1 |\n",
       "| 0.01 | 1 |\n",
       "| 0.01 | 1 |\n",
       "| 0.01 | 1 |\n",
       "| 0.01 | 1 |\n",
       "| 0.01 | 1 |\n",
       "| 0.01 | 1 |\n",
       "| 0.01 | 1 |\n",
       "| 0.01 | 2 |\n",
       "| 0.01 | 2 |\n",
       "| 0.01 | 2 |\n",
       "| 0.01 | 2 |\n",
       "| 0.01 | 2 |\n",
       "\n"
      ],
      "text/plain": [
       "   length seg.id\n",
       "1  0.01   1     \n",
       "2  0.01   1     \n",
       "3  0.01   1     \n",
       "4  0.01   1     \n",
       "5  0.01   1     \n",
       "6  0.01   1     \n",
       "7  0.01   1     \n",
       "8  0.01   1     \n",
       "9  0.01   1     \n",
       "10 0.01   1     \n",
       "11 0.01   1     \n",
       "12 0.01   1     \n",
       "13 0.01   1     \n",
       "14 0.01   2     \n",
       "15 0.01   2     \n",
       "16 0.01   2     \n",
       "17 0.01   2     \n",
       "18 0.01   2     "
      ]
     },
     "metadata": {},
     "output_type": "display_data"
    },
    {
     "data": {
      "text/html": [
       "<table class=\"dataframe\">\n",
       "<caption>A data.table: 2 × 2</caption>\n",
       "<thead>\n",
       "\t<tr><th scope=col>seg.id</th><th scope=col>V1</th></tr>\n",
       "\t<tr><th scope=col>&lt;dbl&gt;</th><th scope=col>&lt;dbl&gt;</th></tr>\n",
       "</thead>\n",
       "<tbody>\n",
       "\t<tr><td>1</td><td>0.13</td></tr>\n",
       "\t<tr><td>2</td><td>0.05</td></tr>\n",
       "</tbody>\n",
       "</table>\n"
      ],
      "text/latex": [
       "A data.table: 2 × 2\n",
       "\\begin{tabular}{ll}\n",
       " seg.id & V1\\\\\n",
       " <dbl> & <dbl>\\\\\n",
       "\\hline\n",
       "\t 1 & 0.13\\\\\n",
       "\t 2 & 0.05\\\\\n",
       "\\end{tabular}\n"
      ],
      "text/markdown": [
       "\n",
       "A data.table: 2 × 2\n",
       "\n",
       "| seg.id &lt;dbl&gt; | V1 &lt;dbl&gt; |\n",
       "|---|---|\n",
       "| 1 | 0.13 |\n",
       "| 2 | 0.05 |\n",
       "\n"
      ],
      "text/plain": [
       "  seg.id V1  \n",
       "1 1      0.13\n",
       "2 2      0.05"
      ]
     },
     "metadata": {},
     "output_type": "display_data"
    },
    {
     "data": {
      "text/html": [
       "<style>\n",
       ".list-inline {list-style: none; margin:0; padding: 0}\n",
       ".list-inline>li {display: inline-block}\n",
       ".list-inline>li:not(:last-child)::after {content: \"\\00b7\"; padding: 0 .5ex}\n",
       "</style>\n",
       "<ol class=list-inline><li>0.13</li><li>0.05</li></ol>\n"
      ],
      "text/latex": [
       "\\begin{enumerate*}\n",
       "\\item 0.13\n",
       "\\item 0.05\n",
       "\\end{enumerate*}\n"
      ],
      "text/markdown": [
       "1. 0.13\n",
       "2. 0.05\n",
       "\n",
       "\n"
      ],
      "text/plain": [
       "[1] 0.13 0.05"
      ]
     },
     "metadata": {},
     "output_type": "display_data"
    }
   ],
   "source": [
    "lengthdata <- as.data.table(cbind(length = data[[\"length\"]], seg.id = segid))\n",
    "lengthdata\n",
    "seglength.summary <- lengthdata[, .(sum(length)), by = .(seg.id)]\n",
    "seglength.summary\n",
    "seglength <- round(seglength.summary[[2]], digits = 10)\n",
    "seglength"
   ]
  },
  {
   "cell_type": "code",
   "execution_count": 74,
   "metadata": {},
   "outputs": [
    {
     "data": {
      "text/html": [
       "1"
      ],
      "text/latex": [
       "1"
      ],
      "text/markdown": [
       "1"
      ],
      "text/plain": [
       "[1] 1"
      ]
     },
     "metadata": {},
     "output_type": "display_data"
    },
    {
     "ename": "ERROR",
     "evalue": "Error in .subset2(x, i, exact = exact): recursive indexing failed at level 2\n\n",
     "output_type": "error",
     "traceback": [
      "Error in .subset2(x, i, exact = exact): recursive indexing failed at level 2\n\nTraceback:\n",
      "1. sapply(k, function(x) {\n .     seg2(segdatalist[[x]], min_length) + cum.ll[x]\n . })",
      "2. lapply(X = X, FUN = FUN, ...)",
      "3. FUN(X[[i]], ...)",
      "4. seg2(segdatalist[[x]], min_length)",
      "5. data[[length]]   # at line 3 of file <text>",
      "6. `[[.data.frame`(data, length)   # at line 3 of file <text>",
      "7. (function(x, i, exact) if (is.matrix(i)) as.matrix(x)[[i]] else .subset2(x, \n .     i, exact = exact))(x, ..., exact = exact)"
     ]
    }
   ],
   "source": [
    "k <- which(seglength > max.length)\n",
    "k\n",
    "while(length(k) > 0){\n",
    "    sa <- sapply(k, function(x){\n",
    "      seg2(segdatalist[[x]], min_length) + cum.ll[x]\n",
    "    })\n",
    "    ss <- sort(c(ss, sa))\n",
    "\n",
    "    k1 <- c(1, ss)\n",
    "    k2 <- c(ss - 1, nrow(data))\n",
    "    ll <- k2 - k1 + 1\n",
    "    cum.ll <- c(0, cumsum(ll))\n",
    "    segid <- c(rep(1:length(ll), ll))\n",
    "    segdatalist <- split(data, segid)\n",
    "    lengthdata <- as.data.table(cbind(length = data[[length]], seg.id = segid))\n",
    "    seglength.summary <- lengthdata[, .(sum(length)), by = .(seg.id)]\n",
    "    seglength <- round(seglength.summary[[2]], digits = 10)\n",
    "    k <- which(seglength > max_length)\n",
    "  }\n",
    "  # add seg.id\n",
    "  k1 <- c(1, ss)\n",
    "  k2 <- c(ss - 1, nrow(data))\n",
    "  ll <- k2 - k1 + 1\n",
    "  data$seg.id <- rep(1:length(ll), ll)\n",
    "  data$seg.point <- 0\n",
    "  data$seg.point[c(1, ss)] <- 1\n",
    "  data"
   ]
  },
  {
   "cell_type": "code",
   "execution_count": 27,
   "metadata": {},
   "outputs": [
    {
     "data": {
      "text/html": [
       "<style>\n",
       ".list-inline {list-style: none; margin:0; padding: 0}\n",
       ".list-inline>li {display: inline-block}\n",
       ".list-inline>li:not(:last-child)::after {content: \"\\00b7\"; padding: 0 .5ex}\n",
       "</style>\n",
       "<ol class=list-inline><li>1</li><li>2</li><li>3</li><li>4</li><li>5</li><li>6</li><li>7</li><li>8</li><li>9</li><li>10</li><li>11</li><li>12</li><li>13</li><li>14</li><li>15</li><li>16</li><li>17</li></ol>\n"
      ],
      "text/latex": [
       "\\begin{enumerate*}\n",
       "\\item 1\n",
       "\\item 2\n",
       "\\item 3\n",
       "\\item 4\n",
       "\\item 5\n",
       "\\item 6\n",
       "\\item 7\n",
       "\\item 8\n",
       "\\item 9\n",
       "\\item 10\n",
       "\\item 11\n",
       "\\item 12\n",
       "\\item 13\n",
       "\\item 14\n",
       "\\item 15\n",
       "\\item 16\n",
       "\\item 17\n",
       "\\end{enumerate*}\n"
      ],
      "text/markdown": [
       "1. 1\n",
       "2. 2\n",
       "3. 3\n",
       "4. 4\n",
       "5. 5\n",
       "6. 6\n",
       "7. 7\n",
       "8. 8\n",
       "9. 9\n",
       "10. 10\n",
       "11. 11\n",
       "12. 12\n",
       "13. 13\n",
       "14. 14\n",
       "15. 15\n",
       "16. 16\n",
       "17. 17\n",
       "\n",
       "\n"
      ],
      "text/plain": [
       " [1]  1  2  3  4  5  6  7  8  9 10 11 12 13 14 15 16 17"
      ]
     },
     "metadata": {},
     "output_type": "display_data"
    },
    {
     "data": {
      "text/html": [
       "<style>\n",
       ".list-inline {list-style: none; margin:0; padding: 0}\n",
       ".list-inline>li {display: inline-block}\n",
       ".list-inline>li:not(:last-child)::after {content: \"\\00b7\"; padding: 0 .5ex}\n",
       "</style>\n",
       "<ol class=list-inline><li>1</li><li>2</li><li>3</li><li>4</li><li>2</li><li>3</li><li>1</li><li>5</li><li>3</li><li>4</li><li>6</li><li>4</li><li>3</li><li>7</li><li>5</li><li>6</li><li>4</li></ol>\n"
      ],
      "text/latex": [
       "\\begin{enumerate*}\n",
       "\\item 1\n",
       "\\item 2\n",
       "\\item 3\n",
       "\\item 4\n",
       "\\item 2\n",
       "\\item 3\n",
       "\\item 1\n",
       "\\item 5\n",
       "\\item 3\n",
       "\\item 4\n",
       "\\item 6\n",
       "\\item 4\n",
       "\\item 3\n",
       "\\item 7\n",
       "\\item 5\n",
       "\\item 6\n",
       "\\item 4\n",
       "\\end{enumerate*}\n"
      ],
      "text/markdown": [
       "1. 1\n",
       "2. 2\n",
       "3. 3\n",
       "4. 4\n",
       "5. 2\n",
       "6. 3\n",
       "7. 1\n",
       "8. 5\n",
       "9. 3\n",
       "10. 4\n",
       "11. 6\n",
       "12. 4\n",
       "13. 3\n",
       "14. 7\n",
       "15. 5\n",
       "16. 6\n",
       "17. 4\n",
       "\n",
       "\n"
      ],
      "text/plain": [
       " [1] 1 2 3 4 2 3 1 5 3 4 6 4 3 7 5 6 4"
      ]
     },
     "metadata": {},
     "output_type": "display_data"
    },
    {
     "data": {
      "text/html": [
       "<style>\n",
       ".list-inline {list-style: none; margin:0; padding: 0}\n",
       ".list-inline>li {display: inline-block}\n",
       ".list-inline>li:not(:last-child)::after {content: \"\\00b7\"; padding: 0 .5ex}\n",
       "</style>\n",
       "<ol class=list-inline><li>5</li><li>4</li><li>6</li><li>5</li><li>7</li><li>3</li><li>4</li><li>6</li><li>4</li><li>3</li><li>5</li><li>1</li><li>3</li><li>2</li><li>4</li><li>3</li><li>2</li></ol>\n"
      ],
      "text/latex": [
       "\\begin{enumerate*}\n",
       "\\item 5\n",
       "\\item 4\n",
       "\\item 6\n",
       "\\item 5\n",
       "\\item 7\n",
       "\\item 3\n",
       "\\item 4\n",
       "\\item 6\n",
       "\\item 4\n",
       "\\item 3\n",
       "\\item 5\n",
       "\\item 1\n",
       "\\item 3\n",
       "\\item 2\n",
       "\\item 4\n",
       "\\item 3\n",
       "\\item 2\n",
       "\\end{enumerate*}\n"
      ],
      "text/markdown": [
       "1. 5\n",
       "2. 4\n",
       "3. 6\n",
       "4. 5\n",
       "5. 7\n",
       "6. 3\n",
       "7. 4\n",
       "8. 6\n",
       "9. 4\n",
       "10. 3\n",
       "11. 5\n",
       "12. 1\n",
       "13. 3\n",
       "14. 2\n",
       "15. 4\n",
       "16. 3\n",
       "17. 2\n",
       "\n",
       "\n"
      ],
      "text/plain": [
       " [1] 5 4 6 5 7 3 4 6 4 3 5 1 3 2 4 3 2"
      ]
     },
     "metadata": {},
     "output_type": "display_data"
    },
    {
     "data": {
      "text/html": [
       "<style>\n",
       ".list-inline {list-style: none; margin:0; padding: 0}\n",
       ".list-inline>li {display: inline-block}\n",
       ".list-inline>li:not(:last-child)::after {content: \"\\00b7\"; padding: 0 .5ex}\n",
       "</style>\n",
       "<ol class=list-inline><li>1</li><li>3</li><li>6</li><li>10</li><li>12</li><li>15</li><li>16</li><li>21</li><li>24</li><li>28</li><li>34</li><li>38</li><li>41</li><li>48</li><li>53</li><li>59</li><li>63</li></ol>\n"
      ],
      "text/latex": [
       "\\begin{enumerate*}\n",
       "\\item 1\n",
       "\\item 3\n",
       "\\item 6\n",
       "\\item 10\n",
       "\\item 12\n",
       "\\item 15\n",
       "\\item 16\n",
       "\\item 21\n",
       "\\item 24\n",
       "\\item 28\n",
       "\\item 34\n",
       "\\item 38\n",
       "\\item 41\n",
       "\\item 48\n",
       "\\item 53\n",
       "\\item 59\n",
       "\\item 63\n",
       "\\end{enumerate*}\n"
      ],
      "text/markdown": [
       "1. 1\n",
       "2. 3\n",
       "3. 6\n",
       "4. 10\n",
       "5. 12\n",
       "6. 15\n",
       "7. 16\n",
       "8. 21\n",
       "9. 24\n",
       "10. 28\n",
       "11. 34\n",
       "12. 38\n",
       "13. 41\n",
       "14. 48\n",
       "15. 53\n",
       "16. 59\n",
       "17. 63\n",
       "\n",
       "\n"
      ],
      "text/plain": [
       " [1]  1  3  6 10 12 15 16 21 24 28 34 38 41 48 53 59 63"
      ]
     },
     "metadata": {},
     "output_type": "display_data"
    },
    {
     "data": {
      "text/html": [
       "<style>\n",
       ".list-inline {list-style: none; margin:0; padding: 0}\n",
       ".list-inline>li {display: inline-block}\n",
       ".list-inline>li:not(:last-child)::after {content: \"\\00b7\"; padding: 0 .5ex}\n",
       "</style>\n",
       "<ol class=list-inline><li>67</li><li>65</li><li>62</li><li>58</li><li>56</li><li>53</li><li>52</li><li>47</li><li>44</li><li>40</li><li>34</li><li>30</li><li>27</li><li>20</li><li>15</li><li>9</li><li>5</li></ol>\n"
      ],
      "text/latex": [
       "\\begin{enumerate*}\n",
       "\\item 67\n",
       "\\item 65\n",
       "\\item 62\n",
       "\\item 58\n",
       "\\item 56\n",
       "\\item 53\n",
       "\\item 52\n",
       "\\item 47\n",
       "\\item 44\n",
       "\\item 40\n",
       "\\item 34\n",
       "\\item 30\n",
       "\\item 27\n",
       "\\item 20\n",
       "\\item 15\n",
       "\\item 9\n",
       "\\item 5\n",
       "\\end{enumerate*}\n"
      ],
      "text/markdown": [
       "1. 67\n",
       "2. 65\n",
       "3. 62\n",
       "4. 58\n",
       "5. 56\n",
       "6. 53\n",
       "7. 52\n",
       "8. 47\n",
       "9. 44\n",
       "10. 40\n",
       "11. 34\n",
       "12. 30\n",
       "13. 27\n",
       "14. 20\n",
       "15. 15\n",
       "16. 9\n",
       "17. 5\n",
       "\n",
       "\n"
      ],
      "text/plain": [
       " [1] 67 65 62 58 56 53 52 47 44 40 34 30 27 20 15  9  5"
      ]
     },
     "metadata": {},
     "output_type": "display_data"
    },
    {
     "data": {
      "text/html": [
       "68"
      ],
      "text/latex": [
       "68"
      ],
      "text/markdown": [
       "68"
      ],
      "text/plain": [
       "[1] 68"
      ]
     },
     "metadata": {},
     "output_type": "display_data"
    },
    {
     "data": {
      "text/html": [
       "<style>\n",
       ".list-inline {list-style: none; margin:0; padding: 0}\n",
       ".list-inline>li {display: inline-block}\n",
       ".list-inline>li:not(:last-child)::after {content: \"\\00b7\"; padding: 0 .5ex}\n",
       "</style>\n",
       "<ol class=list-inline><li>1</li><li>5</li><li>14</li><li>30</li><li>34</li><li>43</li><li>44</li><li>69</li><li>78</li><li>94</li><li>130</li><li>146</li><li>155</li><li>204</li><li>229</li><li>265</li><li>281</li></ol>\n"
      ],
      "text/latex": [
       "\\begin{enumerate*}\n",
       "\\item 1\n",
       "\\item 5\n",
       "\\item 14\n",
       "\\item 30\n",
       "\\item 34\n",
       "\\item 43\n",
       "\\item 44\n",
       "\\item 69\n",
       "\\item 78\n",
       "\\item 94\n",
       "\\item 130\n",
       "\\item 146\n",
       "\\item 155\n",
       "\\item 204\n",
       "\\item 229\n",
       "\\item 265\n",
       "\\item 281\n",
       "\\end{enumerate*}\n"
      ],
      "text/markdown": [
       "1. 1\n",
       "2. 5\n",
       "3. 14\n",
       "4. 30\n",
       "5. 34\n",
       "6. 43\n",
       "7. 44\n",
       "8. 69\n",
       "9. 78\n",
       "10. 94\n",
       "11. 130\n",
       "12. 146\n",
       "13. 155\n",
       "14. 204\n",
       "15. 229\n",
       "16. 265\n",
       "17. 281\n",
       "\n",
       "\n"
      ],
      "text/plain": [
       " [1]   1   5  14  30  34  43  44  69  78  94 130 146 155 204 229 265 281"
      ]
     },
     "metadata": {},
     "output_type": "display_data"
    },
    {
     "data": {
      "text/html": [
       "<style>\n",
       ".list-inline {list-style: none; margin:0; padding: 0}\n",
       ".list-inline>li {display: inline-block}\n",
       ".list-inline>li:not(:last-child)::after {content: \"\\00b7\"; padding: 0 .5ex}\n",
       "</style>\n",
       "<ol class=list-inline><li>305</li><li>301</li><li>292</li><li>276</li><li>272</li><li>263</li><li>262</li><li>237</li><li>228</li><li>212</li><li>176</li><li>160</li><li>151</li><li>102</li><li>77</li><li>41</li><li>25</li></ol>\n"
      ],
      "text/latex": [
       "\\begin{enumerate*}\n",
       "\\item 305\n",
       "\\item 301\n",
       "\\item 292\n",
       "\\item 276\n",
       "\\item 272\n",
       "\\item 263\n",
       "\\item 262\n",
       "\\item 237\n",
       "\\item 228\n",
       "\\item 212\n",
       "\\item 176\n",
       "\\item 160\n",
       "\\item 151\n",
       "\\item 102\n",
       "\\item 77\n",
       "\\item 41\n",
       "\\item 25\n",
       "\\end{enumerate*}\n"
      ],
      "text/markdown": [
       "1. 305\n",
       "2. 301\n",
       "3. 292\n",
       "4. 276\n",
       "5. 272\n",
       "6. 263\n",
       "7. 262\n",
       "8. 237\n",
       "9. 228\n",
       "10. 212\n",
       "11. 176\n",
       "12. 160\n",
       "13. 151\n",
       "14. 102\n",
       "15. 77\n",
       "16. 41\n",
       "17. 25\n",
       "\n",
       "\n"
      ],
      "text/plain": [
       " [1] 305 301 292 276 272 263 262 237 228 212 176 160 151 102  77  41  25"
      ]
     },
     "metadata": {},
     "output_type": "display_data"
    }
   ],
   "source": [
    "cum_n\n",
    "data_left\n",
    "data_right\n",
    "cum_data_left\n",
    "cum_data_right\n",
    "sumd\n",
    "cum_datasquare_left\n",
    "cum_datasquare_right"
   ]
  },
  {
   "cell_type": "code",
   "execution_count": 38,
   "metadata": {},
   "outputs": [
    {
     "data": {
      "text/html": [
       "<style>\n",
       ".list-inline {list-style: none; margin:0; padding: 0}\n",
       ".list-inline>li {display: inline-block}\n",
       ".list-inline>li:not(:last-child)::after {content: \"\\00b7\"; padding: 0 .5ex}\n",
       "</style>\n",
       "<ol class=list-inline><li>0.192907167766665</li><li>0.167608150560567</li><li>0.180882186666548</li><li>0.163935282589273</li><li>0.264627279801502</li><li>0.194983896302274</li><li>0.226598200933158</li><li>0.238272040810445</li><li>0.252044134209739</li><li>0.265858719774044</li><li>0.303123967711684</li><li>0.160336010935486</li></ol>\n"
      ],
      "text/latex": [
       "\\begin{enumerate*}\n",
       "\\item 0.192907167766665\n",
       "\\item 0.167608150560567\n",
       "\\item 0.180882186666548\n",
       "\\item 0.163935282589273\n",
       "\\item 0.264627279801502\n",
       "\\item 0.194983896302274\n",
       "\\item 0.226598200933158\n",
       "\\item 0.238272040810445\n",
       "\\item 0.252044134209739\n",
       "\\item 0.265858719774044\n",
       "\\item 0.303123967711684\n",
       "\\item 0.160336010935486\n",
       "\\end{enumerate*}\n"
      ],
      "text/markdown": [
       "1. 0.192907167766665\n",
       "2. 0.167608150560567\n",
       "3. 0.180882186666548\n",
       "4. 0.163935282589273\n",
       "5. 0.264627279801502\n",
       "6. 0.194983896302274\n",
       "7. 0.226598200933158\n",
       "8. 0.238272040810445\n",
       "9. 0.252044134209739\n",
       "10. 0.265858719774044\n",
       "11. 0.303123967711684\n",
       "12. 0.160336010935486\n",
       "\n",
       "\n"
      ],
      "text/plain": [
       " [1] 0.1929072 0.1676082 0.1808822 0.1639353 0.2646273 0.1949839 0.2265982\n",
       " [8] 0.2382720 0.2520441 0.2658587 0.3031240 0.1603360"
      ]
     },
     "metadata": {},
     "output_type": "display_data"
    },
    {
     "data": {
      "text/html": [
       "14"
      ],
      "text/latex": [
       "14"
      ],
      "text/markdown": [
       "14"
      ],
      "text/plain": [
       "[1] 14"
      ]
     },
     "metadata": {},
     "output_type": "display_data"
    }
   ],
   "source": [
    "qvalue <- rowMeans(qvalue)\n",
    "qvalue\n",
    "maxk <- which(qvalue == max(qvalue)) + max(k_left)\n",
    "maxk"
   ]
  },
  {
   "cell_type": "code",
   "execution_count": 22,
   "metadata": {},
   "outputs": [
    {
     "data": {
      "text/html": [
       "<style>\n",
       ".list-inline {list-style: none; margin:0; padding: 0}\n",
       ".list-inline>li {display: inline-block}\n",
       ".list-inline>li:not(:last-child)::after {content: \"\\00b7\"; padding: 0 .5ex}\n",
       "</style>\n",
       "<ol class=list-inline><li>0.144326688906822</li><li>0.192907167766665</li><li>0.167608150560567</li><li>0.180882186666548</li><li>0.163935282589273</li><li>0.264627279801502</li><li>0.194983896302274</li><li>0.226598200933158</li><li>0.238272040810445</li><li>0.252044134209739</li><li>0.265858719774044</li><li>0.303123967711684</li><li>0.160336010935486</li><li>0.131821194915987</li></ol>\n"
      ],
      "text/latex": [
       "\\begin{enumerate*}\n",
       "\\item 0.144326688906822\n",
       "\\item 0.192907167766665\n",
       "\\item 0.167608150560567\n",
       "\\item 0.180882186666548\n",
       "\\item 0.163935282589273\n",
       "\\item 0.264627279801502\n",
       "\\item 0.194983896302274\n",
       "\\item 0.226598200933158\n",
       "\\item 0.238272040810445\n",
       "\\item 0.252044134209739\n",
       "\\item 0.265858719774044\n",
       "\\item 0.303123967711684\n",
       "\\item 0.160336010935486\n",
       "\\item 0.131821194915987\n",
       "\\end{enumerate*}\n"
      ],
      "text/markdown": [
       "1. 0.144326688906822\n",
       "2. 0.192907167766665\n",
       "3. 0.167608150560567\n",
       "4. 0.180882186666548\n",
       "5. 0.163935282589273\n",
       "6. 0.264627279801502\n",
       "7. 0.194983896302274\n",
       "8. 0.226598200933158\n",
       "9. 0.238272040810445\n",
       "10. 0.252044134209739\n",
       "11. 0.265858719774044\n",
       "12. 0.303123967711684\n",
       "13. 0.160336010935486\n",
       "14. 0.131821194915987\n",
       "\n",
       "\n"
      ],
      "text/plain": [
       " [1] 0.1443267 0.1929072 0.1676082 0.1808822 0.1639353 0.2646273 0.1949839\n",
       " [8] 0.2265982 0.2382720 0.2520441 0.2658587 0.3031240 0.1603360 0.1318212"
      ]
     },
     "metadata": {},
     "output_type": "display_data"
    }
   ],
   "source": [
    "qvalue"
   ]
  },
  {
   "cell_type": "code",
   "execution_count": 39,
   "metadata": {},
   "outputs": [
    {
     "data": {
      "text/html": [
       "11"
      ],
      "text/latex": [
       "11"
      ],
      "text/markdown": [
       "11"
      ],
      "text/plain": [
       "[1] 11"
      ]
     },
     "metadata": {},
     "output_type": "display_data"
    }
   ],
   "source": [
    "which(qvalue == max(qvalue))"
   ]
  },
  {
   "cell_type": "code",
   "execution_count": 34,
   "metadata": {},
   "outputs": [
    {
     "data": {
      "text/html": [
       "<style>\n",
       ".list-inline {list-style: none; margin:0; padding: 0}\n",
       ".list-inline>li {display: inline-block}\n",
       ".list-inline>li:not(:last-child)::after {content: \"\\00b7\"; padding: 0 .5ex}\n",
       "</style>\n",
       "<ol class=list-inline><li>0.166356135214266</li><li>0.237697963800905</li><li>0.231674208144796</li><li>0.170976082740788</li><li>0.267594848590323</li><li>0.29920814479638</li><li>0.519245460421931</li><li>0.389649321266968</li><li>0.452488687782805</li><li>0.438009049773755</li><li>0.271728271728271</li><li>0.273755656108597</li><li>0.370971110337626</li><li>0.156431803490627</li><li>0.109502262443439</li><li>0.0238970588235289</li><li>0.0322065477774816</li></ol>\n"
      ],
      "text/latex": [
       "\\begin{enumerate*}\n",
       "\\item 0.166356135214266\n",
       "\\item 0.237697963800905\n",
       "\\item 0.231674208144796\n",
       "\\item 0.170976082740788\n",
       "\\item 0.267594848590323\n",
       "\\item 0.29920814479638\n",
       "\\item 0.519245460421931\n",
       "\\item 0.389649321266968\n",
       "\\item 0.452488687782805\n",
       "\\item 0.438009049773755\n",
       "\\item 0.271728271728271\n",
       "\\item 0.273755656108597\n",
       "\\item 0.370971110337626\n",
       "\\item 0.156431803490627\n",
       "\\item 0.109502262443439\n",
       "\\item 0.0238970588235289\n",
       "\\item 0.0322065477774816\n",
       "\\end{enumerate*}\n"
      ],
      "text/markdown": [
       "1. 0.166356135214266\n",
       "2. 0.237697963800905\n",
       "3. 0.231674208144796\n",
       "4. 0.170976082740788\n",
       "5. 0.267594848590323\n",
       "6. 0.29920814479638\n",
       "7. 0.519245460421931\n",
       "8. 0.389649321266968\n",
       "9. 0.452488687782805\n",
       "10. 0.438009049773755\n",
       "11. 0.271728271728271\n",
       "12. 0.273755656108597\n",
       "13. 0.370971110337626\n",
       "14. 0.156431803490627\n",
       "15. 0.109502262443439\n",
       "16. 0.0238970588235289\n",
       "17. 0.0322065477774816\n",
       "\n",
       "\n"
      ],
      "text/plain": [
       " [1] 0.16635614 0.23769796 0.23167421 0.17097608 0.26759485 0.29920814\n",
       " [7] 0.51924546 0.38964932 0.45248869 0.43800905 0.27172827 0.27375566\n",
       "[13] 0.37097111 0.15643180 0.10950226 0.02389706 0.03220655"
      ]
     },
     "metadata": {},
     "output_type": "display_data"
    }
   ],
   "source": [
    "(\n",
    "        1 \n",
    "        - (\n",
    "            (cum_datasquare_left  - cum_data_left  * cum_data_left  / cum_n) +\n",
    "            (cum_datasquare_right - cum_data_right * cum_data_right / rev(cum_n))\n",
    "        ) / (sum(data_each_var * data_each_var) - sumd * sumd / n)\n",
    "    )"
   ]
  },
  {
   "cell_type": "code",
   "execution_count": 35,
   "metadata": {},
   "outputs": [
    {
     "data": {
      "text/html": [
       "<style>\n",
       ".list-inline {list-style: none; margin:0; padding: 0}\n",
       ".list-inline>li {display: inline-block}\n",
       ".list-inline>li:not(:last-child)::after {content: \"\\00b7\"; padding: 0 .5ex}\n",
       "</style>\n",
       "<ol class=list-inline><li>0.231674208144796</li><li>0.170976082740788</li><li>0.267594848590323</li><li>0.29920814479638</li><li>0.519245460421931</li><li>0.389649321266968</li><li>0.452488687782805</li><li>0.438009049773755</li><li>0.271728271728271</li><li>0.273755656108597</li><li>0.370971110337626</li><li>0.156431803490627</li></ol>\n"
      ],
      "text/latex": [
       "\\begin{enumerate*}\n",
       "\\item 0.231674208144796\n",
       "\\item 0.170976082740788\n",
       "\\item 0.267594848590323\n",
       "\\item 0.29920814479638\n",
       "\\item 0.519245460421931\n",
       "\\item 0.389649321266968\n",
       "\\item 0.452488687782805\n",
       "\\item 0.438009049773755\n",
       "\\item 0.271728271728271\n",
       "\\item 0.273755656108597\n",
       "\\item 0.370971110337626\n",
       "\\item 0.156431803490627\n",
       "\\end{enumerate*}\n"
      ],
      "text/markdown": [
       "1. 0.231674208144796\n",
       "2. 0.170976082740788\n",
       "3. 0.267594848590323\n",
       "4. 0.29920814479638\n",
       "5. 0.519245460421931\n",
       "6. 0.389649321266968\n",
       "7. 0.452488687782805\n",
       "8. 0.438009049773755\n",
       "9. 0.271728271728271\n",
       "10. 0.273755656108597\n",
       "11. 0.370971110337626\n",
       "12. 0.156431803490627\n",
       "\n",
       "\n"
      ],
      "text/plain": [
       " [1] 0.2316742 0.1709761 0.2675948 0.2992081 0.5192455 0.3896493 0.4524887\n",
       " [8] 0.4380090 0.2717283 0.2737557 0.3709711 0.1564318"
      ]
     },
     "metadata": {},
     "output_type": "display_data"
    }
   ],
   "source": [
    "cqvalue[k - 1]"
   ]
  },
  {
   "cell_type": "code",
   "execution_count": 41,
   "metadata": {},
   "outputs": [
    {
     "data": {
      "text/html": [
       "14"
      ],
      "text/latex": [
       "14"
      ],
      "text/markdown": [
       "14"
      ],
      "text/plain": [
       "[1] 14"
      ]
     },
     "metadata": {},
     "output_type": "display_data"
    }
   ],
   "source": [
    "which(qvalue == max(qvalue)) + max(k_left)"
   ]
  },
  {
   "cell_type": "code",
   "execution_count": 42,
   "metadata": {},
   "outputs": [
    {
     "name": "stderr",
     "output_type": "stream",
     "text": [
      "Warning message in c(1, 2, 3) - c(2, 3):\n",
      "\"longer object length is not a multiple of shorter object length\"\n"
     ]
    },
    {
     "data": {
      "text/html": [
       "<style>\n",
       ".list-inline {list-style: none; margin:0; padding: 0}\n",
       ".list-inline>li {display: inline-block}\n",
       ".list-inline>li:not(:last-child)::after {content: \"\\00b7\"; padding: 0 .5ex}\n",
       "</style>\n",
       "<ol class=list-inline><li>-1</li><li>-1</li><li>1</li></ol>\n"
      ],
      "text/latex": [
       "\\begin{enumerate*}\n",
       "\\item -1\n",
       "\\item -1\n",
       "\\item 1\n",
       "\\end{enumerate*}\n"
      ],
      "text/markdown": [
       "1. -1\n",
       "2. -1\n",
       "3. 1\n",
       "\n",
       "\n"
      ],
      "text/plain": [
       "[1] -1 -1  1"
      ]
     },
     "metadata": {},
     "output_type": "display_data"
    }
   ],
   "source": [
    "c(1,2,3)-c(2,3)"
   ]
  },
  {
   "cell_type": "code",
   "execution_count": 60,
   "metadata": {},
   "outputs": [
    {
     "data": {
      "text/html": [
       "<style>\n",
       ".list-inline {list-style: none; margin:0; padding: 0}\n",
       ".list-inline>li {display: inline-block}\n",
       ".list-inline>li:not(:last-child)::after {content: \"\\00b7\"; padding: 0 .5ex}\n",
       "</style>\n",
       "<ol class=list-inline><li>1</li><li>1</li><li>1</li><li>2</li><li>2</li><li>2</li><li>2</li></ol>\n"
      ],
      "text/latex": [
       "\\begin{enumerate*}\n",
       "\\item 1\n",
       "\\item 1\n",
       "\\item 1\n",
       "\\item 2\n",
       "\\item 2\n",
       "\\item 2\n",
       "\\item 2\n",
       "\\end{enumerate*}\n"
      ],
      "text/markdown": [
       "1. 1\n",
       "2. 1\n",
       "3. 1\n",
       "4. 2\n",
       "5. 2\n",
       "6. 2\n",
       "7. 2\n",
       "\n",
       "\n"
      ],
      "text/plain": [
       "[1] 1 1 1 2 2 2 2"
      ]
     },
     "metadata": {},
     "output_type": "display_data"
    }
   ],
   "source": [
    "rep(1:2,c(3,4))"
   ]
  },
  {
   "cell_type": "code",
   "execution_count": 75,
   "metadata": {},
   "outputs": [
    {
     "data": {
      "text/html": [
       "<table class=\"dataframe\">\n",
       "<caption>A data.table: 18 × 7</caption>\n",
       "<thead>\n",
       "\t<tr><th scope=col>var_a</th><th scope=col>var_b</th><th scope=col>slk_from</th><th scope=col>slk_to</th><th scope=col>length</th><th scope=col>seg.id</th><th scope=col>seg.point</th></tr>\n",
       "\t<tr><th scope=col>&lt;dbl&gt;</th><th scope=col>&lt;dbl&gt;</th><th scope=col>&lt;dbl&gt;</th><th scope=col>&lt;dbl&gt;</th><th scope=col>&lt;dbl&gt;</th><th scope=col>&lt;int&gt;</th><th scope=col>&lt;dbl&gt;</th></tr>\n",
       "</thead>\n",
       "<tbody>\n",
       "\t<tr><td>1</td><td>3</td><td>0.00</td><td>0.01</td><td>0.01</td><td>1</td><td>1</td></tr>\n",
       "\t<tr><td>2</td><td>2</td><td>0.01</td><td>0.02</td><td>0.01</td><td>1</td><td>0</td></tr>\n",
       "\t<tr><td>3</td><td>1</td><td>0.02</td><td>0.03</td><td>0.01</td><td>1</td><td>0</td></tr>\n",
       "\t<tr><td>4</td><td>3</td><td>0.03</td><td>0.04</td><td>0.01</td><td>1</td><td>0</td></tr>\n",
       "\t<tr><td>2</td><td>5</td><td>0.04</td><td>0.05</td><td>0.01</td><td>1</td><td>0</td></tr>\n",
       "\t<tr><td>3</td><td>6</td><td>0.05</td><td>0.06</td><td>0.01</td><td>1</td><td>0</td></tr>\n",
       "\t<tr><td>1</td><td>5</td><td>0.06</td><td>0.07</td><td>0.01</td><td>1</td><td>0</td></tr>\n",
       "\t<tr><td>5</td><td>6</td><td>0.07</td><td>0.08</td><td>0.01</td><td>2</td><td>1</td></tr>\n",
       "\t<tr><td>3</td><td>4</td><td>0.08</td><td>0.09</td><td>0.01</td><td>2</td><td>0</td></tr>\n",
       "\t<tr><td>4</td><td>7</td><td>0.09</td><td>0.10</td><td>0.01</td><td>2</td><td>0</td></tr>\n",
       "\t<tr><td>6</td><td>9</td><td>0.10</td><td>0.11</td><td>0.01</td><td>2</td><td>0</td></tr>\n",
       "\t<tr><td>4</td><td>4</td><td>0.11</td><td>0.12</td><td>0.01</td><td>2</td><td>0</td></tr>\n",
       "\t<tr><td>3</td><td>3</td><td>0.12</td><td>0.13</td><td>0.01</td><td>2</td><td>0</td></tr>\n",
       "\t<tr><td>7</td><td>2</td><td>0.13</td><td>0.14</td><td>0.01</td><td>3</td><td>1</td></tr>\n",
       "\t<tr><td>5</td><td>3</td><td>0.14</td><td>0.15</td><td>0.01</td><td>3</td><td>0</td></tr>\n",
       "\t<tr><td>6</td><td>1</td><td>0.15</td><td>0.16</td><td>0.01</td><td>3</td><td>0</td></tr>\n",
       "\t<tr><td>4</td><td>3</td><td>0.16</td><td>0.17</td><td>0.01</td><td>3</td><td>0</td></tr>\n",
       "\t<tr><td>5</td><td>2</td><td>0.17</td><td>0.18</td><td>0.01</td><td>3</td><td>0</td></tr>\n",
       "</tbody>\n",
       "</table>\n"
      ],
      "text/latex": [
       "A data.table: 18 × 7\n",
       "\\begin{tabular}{lllllll}\n",
       " var\\_a & var\\_b & slk\\_from & slk\\_to & length & seg.id & seg.point\\\\\n",
       " <dbl> & <dbl> & <dbl> & <dbl> & <dbl> & <int> & <dbl>\\\\\n",
       "\\hline\n",
       "\t 1 & 3 & 0.00 & 0.01 & 0.01 & 1 & 1\\\\\n",
       "\t 2 & 2 & 0.01 & 0.02 & 0.01 & 1 & 0\\\\\n",
       "\t 3 & 1 & 0.02 & 0.03 & 0.01 & 1 & 0\\\\\n",
       "\t 4 & 3 & 0.03 & 0.04 & 0.01 & 1 & 0\\\\\n",
       "\t 2 & 5 & 0.04 & 0.05 & 0.01 & 1 & 0\\\\\n",
       "\t 3 & 6 & 0.05 & 0.06 & 0.01 & 1 & 0\\\\\n",
       "\t 1 & 5 & 0.06 & 0.07 & 0.01 & 1 & 0\\\\\n",
       "\t 5 & 6 & 0.07 & 0.08 & 0.01 & 2 & 1\\\\\n",
       "\t 3 & 4 & 0.08 & 0.09 & 0.01 & 2 & 0\\\\\n",
       "\t 4 & 7 & 0.09 & 0.10 & 0.01 & 2 & 0\\\\\n",
       "\t 6 & 9 & 0.10 & 0.11 & 0.01 & 2 & 0\\\\\n",
       "\t 4 & 4 & 0.11 & 0.12 & 0.01 & 2 & 0\\\\\n",
       "\t 3 & 3 & 0.12 & 0.13 & 0.01 & 2 & 0\\\\\n",
       "\t 7 & 2 & 0.13 & 0.14 & 0.01 & 3 & 1\\\\\n",
       "\t 5 & 3 & 0.14 & 0.15 & 0.01 & 3 & 0\\\\\n",
       "\t 6 & 1 & 0.15 & 0.16 & 0.01 & 3 & 0\\\\\n",
       "\t 4 & 3 & 0.16 & 0.17 & 0.01 & 3 & 0\\\\\n",
       "\t 5 & 2 & 0.17 & 0.18 & 0.01 & 3 & 0\\\\\n",
       "\\end{tabular}\n"
      ],
      "text/markdown": [
       "\n",
       "A data.table: 18 × 7\n",
       "\n",
       "| var_a &lt;dbl&gt; | var_b &lt;dbl&gt; | slk_from &lt;dbl&gt; | slk_to &lt;dbl&gt; | length &lt;dbl&gt; | seg.id &lt;int&gt; | seg.point &lt;dbl&gt; |\n",
       "|---|---|---|---|---|---|---|\n",
       "| 1 | 3 | 0.00 | 0.01 | 0.01 | 1 | 1 |\n",
       "| 2 | 2 | 0.01 | 0.02 | 0.01 | 1 | 0 |\n",
       "| 3 | 1 | 0.02 | 0.03 | 0.01 | 1 | 0 |\n",
       "| 4 | 3 | 0.03 | 0.04 | 0.01 | 1 | 0 |\n",
       "| 2 | 5 | 0.04 | 0.05 | 0.01 | 1 | 0 |\n",
       "| 3 | 6 | 0.05 | 0.06 | 0.01 | 1 | 0 |\n",
       "| 1 | 5 | 0.06 | 0.07 | 0.01 | 1 | 0 |\n",
       "| 5 | 6 | 0.07 | 0.08 | 0.01 | 2 | 1 |\n",
       "| 3 | 4 | 0.08 | 0.09 | 0.01 | 2 | 0 |\n",
       "| 4 | 7 | 0.09 | 0.10 | 0.01 | 2 | 0 |\n",
       "| 6 | 9 | 0.10 | 0.11 | 0.01 | 2 | 0 |\n",
       "| 4 | 4 | 0.11 | 0.12 | 0.01 | 2 | 0 |\n",
       "| 3 | 3 | 0.12 | 0.13 | 0.01 | 2 | 0 |\n",
       "| 7 | 2 | 0.13 | 0.14 | 0.01 | 3 | 1 |\n",
       "| 5 | 3 | 0.14 | 0.15 | 0.01 | 3 | 0 |\n",
       "| 6 | 1 | 0.15 | 0.16 | 0.01 | 3 | 0 |\n",
       "| 4 | 3 | 0.16 | 0.17 | 0.01 | 3 | 0 |\n",
       "| 5 | 2 | 0.17 | 0.18 | 0.01 | 3 | 0 |\n",
       "\n"
      ],
      "text/plain": [
       "   var_a var_b slk_from slk_to length seg.id seg.point\n",
       "1  1     3     0.00     0.01   0.01   1      1        \n",
       "2  2     2     0.01     0.02   0.01   1      0        \n",
       "3  3     1     0.02     0.03   0.01   1      0        \n",
       "4  4     3     0.03     0.04   0.01   1      0        \n",
       "5  2     5     0.04     0.05   0.01   1      0        \n",
       "6  3     6     0.05     0.06   0.01   1      0        \n",
       "7  1     5     0.06     0.07   0.01   1      0        \n",
       "8  5     6     0.07     0.08   0.01   2      1        \n",
       "9  3     4     0.08     0.09   0.01   2      0        \n",
       "10 4     7     0.09     0.10   0.01   2      0        \n",
       "11 6     9     0.10     0.11   0.01   2      0        \n",
       "12 4     4     0.11     0.12   0.01   2      0        \n",
       "13 3     3     0.12     0.13   0.01   2      0        \n",
       "14 7     2     0.13     0.14   0.01   3      1        \n",
       "15 5     3     0.14     0.15   0.01   3      0        \n",
       "16 6     1     0.15     0.16   0.01   3      0        \n",
       "17 4     3     0.16     0.17   0.01   3      0        \n",
       "18 5     2     0.17     0.18   0.01   3      0        "
      ]
     },
     "metadata": {},
     "output_type": "display_data"
    }
   ],
   "source": [
    "shs <- function(var = \"deflection\", length = \"length\", data, range = NULL){\n",
    "  data <- as.data.table(data)\n",
    "  n_var <- length(var)\n",
    "\n",
    "  cumq <- function(data){ # debug: use cumq to calculate q values along all segment points\n",
    "    n                    <- length(data)\n",
    "    cum_n                <- 1:(n - 1)\n",
    "    data_left            <- data[cum_n]\n",
    "    data_right           <- rev(data)[cum_n]\n",
    "    cum_data_left        <- cumsum(data_left)\n",
    "    cum_data_right       <- rev(cumsum(data_right))\n",
    "    sumd                 <- sum(data)\n",
    "    cum_datasquare_left  <- cumsum(data_left * data_left)\n",
    "    cum_datasquare_right <- rev(cumsum(data_right * data_right))\n",
    "\n",
    "    cqvalue <- 1 - ((cum_datasquare_left - cum_data_left * cum_data_left/cum_n) +\n",
    "      (cum_datasquare_right - cum_data_right * cum_data_right/rev(cum_n)))/\n",
    "      (sum(data * data) - sumd * sumd/n)\n",
    "    return(cqvalue)\n",
    "  }\n",
    "\n",
    "  min_length <- range[1]\n",
    "  max_length <- range[2]\n",
    "\n",
    "  seg2 <- function(data, min.length){\n",
    "    data_var <- data[, ..var]\n",
    "    data_length <- data[[length]] # array\n",
    "    cumlength_left <- cumsum(data_length);\n",
    "\tcumlength.right <- cumsum(rev(data_length))\n",
    "    k_left <- c(1, which(cumlength_left <= min.length) + 1)\n",
    "    k_right <- nrow(data_var) - c(0, which(cumlength.right <= min.length))\n",
    "    k <- c(1:nrow(data_var))[-c(k_left, k_right)]\n",
    "\n",
    "    qvalue <- matrix(NA, length(k), n_var)\n",
    "    for (i in 1:n_var){\n",
    "        qvalue[, i] <- cumq(data_var[[i]])[k - 1] # debug: use cumq function instead of q function\n",
    "    }\n",
    "    qvalue <- rowMeans(qvalue)\n",
    "    maxk <- which(qvalue == max(qvalue)) + max(k_left)\n",
    "    return(maxk)\n",
    "  }\n",
    "  # first segmentation\n",
    "  ss <- seg2(data, min_length)\n",
    "  # following segmentation\n",
    "  k1 <- c(1, ss)\n",
    "  k2 <- c(ss - 1, nrow(data))\n",
    "  ll <- k2 - k1 + 1\n",
    "  cum.ll <- c(0, cumsum(ll))\n",
    "  segid <- c(rep(1:length(ll), ll))\n",
    "  segdatalist <- split(data, segid)\n",
    "\n",
    "  lengthdata <- as.data.table(cbind(length = data[[length]], seg.id = segid))\n",
    "  seglength.summary <- lengthdata[, .(sum(length)), by = .(seg.id)]\n",
    "  seglength <- round(seglength.summary[[2]], digits = 10)\n",
    "\n",
    "  k <- which(seglength > max_length)\n",
    "\n",
    "  while(length(k) > 0){\n",
    "    sa <- sapply(k, function(x){\n",
    "      seg2(segdatalist[[x]], min_length) + cum.ll[x]\n",
    "    })\n",
    "    ss <- sort(c(ss, sa))\n",
    "\n",
    "    k1 <- c(1, ss)\n",
    "    k2 <- c(ss - 1, nrow(data))\n",
    "    ll <- k2 - k1 + 1\n",
    "    cum.ll <- c(0, cumsum(ll))\n",
    "    segid <- c(rep(1:length(ll), ll))\n",
    "    segdatalist <- split(data, segid)\n",
    "    lengthdata <- as.data.table(cbind(length = data[[length]], seg.id = segid))\n",
    "    seglength.summary <- lengthdata[, .(sum(length)), by = .(seg.id)]\n",
    "    seglength <- round(seglength.summary[[2]], digits = 10)\n",
    "    k <- which(seglength > max_length)\n",
    "  }\n",
    "  # add seg.id\n",
    "  k1 <- c(1, ss)\n",
    "  k2 <- c(ss - 1, nrow(data))\n",
    "  ll <- k2 - k1 + 1\n",
    "  data$seg.id <- rep(1:length(ll), ll)\n",
    "  data$seg.point <- 0\n",
    "  data$seg.point[c(1, ss)] <- 1\n",
    "  return(data)\n",
    "}\n",
    "\n",
    "shs(var,\"length\",data,range=c(0.02,0.1))"
   ]
  },
  {
   "cell_type": "code",
   "execution_count": null,
   "metadata": {},
   "outputs": [],
   "source": []
  }
 ],
 "metadata": {
  "kernelspec": {
   "display_name": "R",
   "language": "R",
   "name": "ir"
  },
  "language_info": {
   "codemirror_mode": "r",
   "file_extension": ".r",
   "mimetype": "text/x-r-source",
   "name": "R",
   "pygments_lexer": "r",
   "version": "4.1.0"
  },
  "orig_nbformat": 4
 },
 "nbformat": 4,
 "nbformat_minor": 2
}
